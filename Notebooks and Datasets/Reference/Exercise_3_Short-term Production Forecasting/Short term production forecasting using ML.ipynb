{
 "cells": [
  {
   "cell_type": "markdown",
   "metadata": {},
   "source": [
    "# Import Libraries"
   ]
  },
  {
   "cell_type": "code",
   "execution_count": 3,
   "metadata": {},
   "outputs": [],
   "source": [
    "import pandas as pd\n",
    "import matplotlib.pyplot as plt\n",
    "import numpy as np\n",
    "import sklearn as sk\n",
    "from math import sqrt"
   ]
  },
  {
   "cell_type": "markdown",
   "metadata": {},
   "source": [
    "# Load Data"
   ]
  },
  {
   "cell_type": "code",
   "execution_count": 6,
   "metadata": {},
   "outputs": [
    {
     "data": {
      "text/html": [
       "<div>\n",
       "<style scoped>\n",
       "    .dataframe tbody tr th:only-of-type {\n",
       "        vertical-align: middle;\n",
       "    }\n",
       "\n",
       "    .dataframe tbody tr th {\n",
       "        vertical-align: top;\n",
       "    }\n",
       "\n",
       "    .dataframe thead th {\n",
       "        text-align: right;\n",
       "    }\n",
       "</style>\n",
       "<table border=\"1\" class=\"dataframe\">\n",
       "  <thead>\n",
       "    <tr style=\"text-align: right;\">\n",
       "      <th></th>\n",
       "      <th>Date</th>\n",
       "      <th>Well</th>\n",
       "      <th>Well_Type</th>\n",
       "      <th>WaterRate</th>\n",
       "      <th>CasingHeadPressure</th>\n",
       "      <th>TubingHeadPressure</th>\n",
       "      <th>PumpSpeed</th>\n",
       "      <th>Torque</th>\n",
       "      <th>GasRate</th>\n",
       "    </tr>\n",
       "  </thead>\n",
       "  <tbody>\n",
       "    <tr>\n",
       "      <th>0</th>\n",
       "      <td>10-01-2015</td>\n",
       "      <td>Well 10</td>\n",
       "      <td>Pre-perf</td>\n",
       "      <td>192.00</td>\n",
       "      <td>51.00</td>\n",
       "      <td>38.00</td>\n",
       "      <td>63.00</td>\n",
       "      <td>235.00</td>\n",
       "      <td>2.00</td>\n",
       "    </tr>\n",
       "    <tr>\n",
       "      <th>1</th>\n",
       "      <td>11-01-2015</td>\n",
       "      <td>Well 10</td>\n",
       "      <td>Pre-perf</td>\n",
       "      <td>308.00</td>\n",
       "      <td>43.00</td>\n",
       "      <td>31.00</td>\n",
       "      <td>67.00</td>\n",
       "      <td>235.00</td>\n",
       "      <td>37.00</td>\n",
       "    </tr>\n",
       "    <tr>\n",
       "      <th>2</th>\n",
       "      <td>12-01-2015</td>\n",
       "      <td>Well 10</td>\n",
       "      <td>Pre-perf</td>\n",
       "      <td>308.00</td>\n",
       "      <td>41.00</td>\n",
       "      <td>31.00</td>\n",
       "      <td>67.00</td>\n",
       "      <td>239.00</td>\n",
       "      <td>59.00</td>\n",
       "    </tr>\n",
       "    <tr>\n",
       "      <th>3</th>\n",
       "      <td>13-01-2015</td>\n",
       "      <td>Well 10</td>\n",
       "      <td>Pre-perf</td>\n",
       "      <td>309.09</td>\n",
       "      <td>40.53</td>\n",
       "      <td>29.90</td>\n",
       "      <td>67.04</td>\n",
       "      <td>238.86</td>\n",
       "      <td>59.69</td>\n",
       "    </tr>\n",
       "    <tr>\n",
       "      <th>4</th>\n",
       "      <td>14-01-2015</td>\n",
       "      <td>Well 10</td>\n",
       "      <td>Pre-perf</td>\n",
       "      <td>308.18</td>\n",
       "      <td>40.46</td>\n",
       "      <td>29.84</td>\n",
       "      <td>67.06</td>\n",
       "      <td>236.16</td>\n",
       "      <td>56.57</td>\n",
       "    </tr>\n",
       "  </tbody>\n",
       "</table>\n",
       "</div>"
      ],
      "text/plain": [
       "         Date     Well Well_Type  WaterRate  CasingHeadPressure  \\\n",
       "0  10-01-2015  Well 10  Pre-perf     192.00               51.00   \n",
       "1  11-01-2015  Well 10  Pre-perf     308.00               43.00   \n",
       "2  12-01-2015  Well 10  Pre-perf     308.00               41.00   \n",
       "3  13-01-2015  Well 10  Pre-perf     309.09               40.53   \n",
       "4  14-01-2015  Well 10  Pre-perf     308.18               40.46   \n",
       "\n",
       "   TubingHeadPressure  PumpSpeed  Torque  GasRate  \n",
       "0               38.00      63.00  235.00     2.00  \n",
       "1               31.00      67.00  235.00    37.00  \n",
       "2               31.00      67.00  239.00    59.00  \n",
       "3               29.90      67.04  238.86    59.69  \n",
       "4               29.84      67.06  236.16    56.57  "
      ]
     },
     "execution_count": 6,
     "metadata": {},
     "output_type": "execute_result"
    }
   ],
   "source": [
    "pd.read_csv('Prod_Forecast.csv').head()"
   ]
  },
  {
   "cell_type": "markdown",
   "metadata": {},
   "source": [
    "# Pre-processing"
   ]
  },
  {
   "cell_type": "markdown",
   "metadata": {},
   "source": [
    "## Parse date and set index to 'Date':"
   ]
  },
  {
   "cell_type": "code",
   "execution_count": 7,
   "metadata": {},
   "outputs": [],
   "source": [
    "data = pd.read_csv('Prod_Forecast.csv', parse_dates=['Date'], index_col='Date', dayfirst=True)"
   ]
  },
  {
   "cell_type": "code",
   "execution_count": 8,
   "metadata": {},
   "outputs": [
    {
     "data": {
      "text/html": [
       "<div>\n",
       "<style scoped>\n",
       "    .dataframe tbody tr th:only-of-type {\n",
       "        vertical-align: middle;\n",
       "    }\n",
       "\n",
       "    .dataframe tbody tr th {\n",
       "        vertical-align: top;\n",
       "    }\n",
       "\n",
       "    .dataframe thead th {\n",
       "        text-align: right;\n",
       "    }\n",
       "</style>\n",
       "<table border=\"1\" class=\"dataframe\">\n",
       "  <thead>\n",
       "    <tr style=\"text-align: right;\">\n",
       "      <th></th>\n",
       "      <th>Well</th>\n",
       "      <th>Well_Type</th>\n",
       "      <th>WaterRate</th>\n",
       "      <th>CasingHeadPressure</th>\n",
       "      <th>TubingHeadPressure</th>\n",
       "      <th>PumpSpeed</th>\n",
       "      <th>Torque</th>\n",
       "      <th>GasRate</th>\n",
       "    </tr>\n",
       "    <tr>\n",
       "      <th>Date</th>\n",
       "      <th></th>\n",
       "      <th></th>\n",
       "      <th></th>\n",
       "      <th></th>\n",
       "      <th></th>\n",
       "      <th></th>\n",
       "      <th></th>\n",
       "      <th></th>\n",
       "    </tr>\n",
       "  </thead>\n",
       "  <tbody>\n",
       "    <tr>\n",
       "      <th>2015-01-10</th>\n",
       "      <td>Well 10</td>\n",
       "      <td>Pre-perf</td>\n",
       "      <td>192.00</td>\n",
       "      <td>51.00</td>\n",
       "      <td>38.00</td>\n",
       "      <td>63.00</td>\n",
       "      <td>235.00</td>\n",
       "      <td>2.00</td>\n",
       "    </tr>\n",
       "    <tr>\n",
       "      <th>2015-01-11</th>\n",
       "      <td>Well 10</td>\n",
       "      <td>Pre-perf</td>\n",
       "      <td>308.00</td>\n",
       "      <td>43.00</td>\n",
       "      <td>31.00</td>\n",
       "      <td>67.00</td>\n",
       "      <td>235.00</td>\n",
       "      <td>37.00</td>\n",
       "    </tr>\n",
       "    <tr>\n",
       "      <th>2015-01-12</th>\n",
       "      <td>Well 10</td>\n",
       "      <td>Pre-perf</td>\n",
       "      <td>308.00</td>\n",
       "      <td>41.00</td>\n",
       "      <td>31.00</td>\n",
       "      <td>67.00</td>\n",
       "      <td>239.00</td>\n",
       "      <td>59.00</td>\n",
       "    </tr>\n",
       "    <tr>\n",
       "      <th>2015-01-13</th>\n",
       "      <td>Well 10</td>\n",
       "      <td>Pre-perf</td>\n",
       "      <td>309.09</td>\n",
       "      <td>40.53</td>\n",
       "      <td>29.90</td>\n",
       "      <td>67.04</td>\n",
       "      <td>238.86</td>\n",
       "      <td>59.69</td>\n",
       "    </tr>\n",
       "    <tr>\n",
       "      <th>2015-01-14</th>\n",
       "      <td>Well 10</td>\n",
       "      <td>Pre-perf</td>\n",
       "      <td>308.18</td>\n",
       "      <td>40.46</td>\n",
       "      <td>29.84</td>\n",
       "      <td>67.06</td>\n",
       "      <td>236.16</td>\n",
       "      <td>56.57</td>\n",
       "    </tr>\n",
       "    <tr>\n",
       "      <th>2015-01-15</th>\n",
       "      <td>Well 10</td>\n",
       "      <td>Pre-perf</td>\n",
       "      <td>308.18</td>\n",
       "      <td>40.46</td>\n",
       "      <td>29.84</td>\n",
       "      <td>67.06</td>\n",
       "      <td>236.16</td>\n",
       "      <td>56.57</td>\n",
       "    </tr>\n",
       "    <tr>\n",
       "      <th>2015-01-16</th>\n",
       "      <td>Well 10</td>\n",
       "      <td>Pre-perf</td>\n",
       "      <td>306.29</td>\n",
       "      <td>40.25</td>\n",
       "      <td>29.69</td>\n",
       "      <td>67.03</td>\n",
       "      <td>236.27</td>\n",
       "      <td>51.80</td>\n",
       "    </tr>\n",
       "    <tr>\n",
       "      <th>2015-01-17</th>\n",
       "      <td>Well 10</td>\n",
       "      <td>Pre-perf</td>\n",
       "      <td>306.36</td>\n",
       "      <td>40.24</td>\n",
       "      <td>29.67</td>\n",
       "      <td>67.02</td>\n",
       "      <td>235.41</td>\n",
       "      <td>50.32</td>\n",
       "    </tr>\n",
       "    <tr>\n",
       "      <th>2015-01-18</th>\n",
       "      <td>Well 10</td>\n",
       "      <td>Pre-perf</td>\n",
       "      <td>306.14</td>\n",
       "      <td>40.42</td>\n",
       "      <td>29.81</td>\n",
       "      <td>67.04</td>\n",
       "      <td>236.80</td>\n",
       "      <td>54.30</td>\n",
       "    </tr>\n",
       "    <tr>\n",
       "      <th>2015-01-19</th>\n",
       "      <td>Well 10</td>\n",
       "      <td>Pre-perf</td>\n",
       "      <td>306.00</td>\n",
       "      <td>41.00</td>\n",
       "      <td>30.00</td>\n",
       "      <td>67.00</td>\n",
       "      <td>242.00</td>\n",
       "      <td>63.00</td>\n",
       "    </tr>\n",
       "  </tbody>\n",
       "</table>\n",
       "</div>"
      ],
      "text/plain": [
       "               Well Well_Type  WaterRate  CasingHeadPressure  \\\n",
       "Date                                                           \n",
       "2015-01-10  Well 10  Pre-perf     192.00               51.00   \n",
       "2015-01-11  Well 10  Pre-perf     308.00               43.00   \n",
       "2015-01-12  Well 10  Pre-perf     308.00               41.00   \n",
       "2015-01-13  Well 10  Pre-perf     309.09               40.53   \n",
       "2015-01-14  Well 10  Pre-perf     308.18               40.46   \n",
       "2015-01-15  Well 10  Pre-perf     308.18               40.46   \n",
       "2015-01-16  Well 10  Pre-perf     306.29               40.25   \n",
       "2015-01-17  Well 10  Pre-perf     306.36               40.24   \n",
       "2015-01-18  Well 10  Pre-perf     306.14               40.42   \n",
       "2015-01-19  Well 10  Pre-perf     306.00               41.00   \n",
       "\n",
       "            TubingHeadPressure  PumpSpeed  Torque  GasRate  \n",
       "Date                                                        \n",
       "2015-01-10               38.00      63.00  235.00     2.00  \n",
       "2015-01-11               31.00      67.00  235.00    37.00  \n",
       "2015-01-12               31.00      67.00  239.00    59.00  \n",
       "2015-01-13               29.90      67.04  238.86    59.69  \n",
       "2015-01-14               29.84      67.06  236.16    56.57  \n",
       "2015-01-15               29.84      67.06  236.16    56.57  \n",
       "2015-01-16               29.69      67.03  236.27    51.80  \n",
       "2015-01-17               29.67      67.02  235.41    50.32  \n",
       "2015-01-18               29.81      67.04  236.80    54.30  \n",
       "2015-01-19               30.00      67.00  242.00    63.00  "
      ]
     },
     "execution_count": 8,
     "metadata": {},
     "output_type": "execute_result"
    }
   ],
   "source": [
    "data.head(10)"
   ]
  },
  {
   "cell_type": "markdown",
   "metadata": {},
   "source": [
    "## Sort according to 'Well' :"
   ]
  },
  {
   "cell_type": "code",
   "execution_count": 9,
   "metadata": {},
   "outputs": [
    {
     "data": {
      "text/html": [
       "<div>\n",
       "<style scoped>\n",
       "    .dataframe tbody tr th:only-of-type {\n",
       "        vertical-align: middle;\n",
       "    }\n",
       "\n",
       "    .dataframe tbody tr th {\n",
       "        vertical-align: top;\n",
       "    }\n",
       "\n",
       "    .dataframe thead th {\n",
       "        text-align: right;\n",
       "    }\n",
       "</style>\n",
       "<table border=\"1\" class=\"dataframe\">\n",
       "  <thead>\n",
       "    <tr style=\"text-align: right;\">\n",
       "      <th></th>\n",
       "      <th>Well</th>\n",
       "      <th>Well_Type</th>\n",
       "      <th>WaterRate</th>\n",
       "      <th>CasingHeadPressure</th>\n",
       "      <th>TubingHeadPressure</th>\n",
       "      <th>PumpSpeed</th>\n",
       "      <th>Torque</th>\n",
       "      <th>GasRate</th>\n",
       "    </tr>\n",
       "    <tr>\n",
       "      <th>Date</th>\n",
       "      <th></th>\n",
       "      <th></th>\n",
       "      <th></th>\n",
       "      <th></th>\n",
       "      <th></th>\n",
       "      <th></th>\n",
       "      <th></th>\n",
       "      <th></th>\n",
       "    </tr>\n",
       "  </thead>\n",
       "  <tbody>\n",
       "    <tr>\n",
       "      <th>2018-07-12</th>\n",
       "      <td>Well 1</td>\n",
       "      <td>Pre-perf</td>\n",
       "      <td>26.31</td>\n",
       "      <td>47.86</td>\n",
       "      <td>47.85</td>\n",
       "      <td>109.0</td>\n",
       "      <td>118.01</td>\n",
       "      <td>143.45</td>\n",
       "    </tr>\n",
       "    <tr>\n",
       "      <th>2016-06-10</th>\n",
       "      <td>Well 1</td>\n",
       "      <td>Pre-perf</td>\n",
       "      <td>31.61</td>\n",
       "      <td>35.36</td>\n",
       "      <td>35.63</td>\n",
       "      <td>136.0</td>\n",
       "      <td>116.53</td>\n",
       "      <td>255.07</td>\n",
       "    </tr>\n",
       "    <tr>\n",
       "      <th>2016-06-11</th>\n",
       "      <td>Well 1</td>\n",
       "      <td>Pre-perf</td>\n",
       "      <td>32.60</td>\n",
       "      <td>35.41</td>\n",
       "      <td>35.69</td>\n",
       "      <td>136.0</td>\n",
       "      <td>117.27</td>\n",
       "      <td>255.80</td>\n",
       "    </tr>\n",
       "    <tr>\n",
       "      <th>2016-06-12</th>\n",
       "      <td>Well 1</td>\n",
       "      <td>Pre-perf</td>\n",
       "      <td>31.59</td>\n",
       "      <td>35.21</td>\n",
       "      <td>35.49</td>\n",
       "      <td>136.0</td>\n",
       "      <td>118.75</td>\n",
       "      <td>253.27</td>\n",
       "    </tr>\n",
       "    <tr>\n",
       "      <th>2016-06-13</th>\n",
       "      <td>Well 1</td>\n",
       "      <td>Pre-perf</td>\n",
       "      <td>31.79</td>\n",
       "      <td>35.27</td>\n",
       "      <td>35.55</td>\n",
       "      <td>136.0</td>\n",
       "      <td>118.01</td>\n",
       "      <td>251.73</td>\n",
       "    </tr>\n",
       "    <tr>\n",
       "      <th>2016-06-14</th>\n",
       "      <td>Well 1</td>\n",
       "      <td>Pre-perf</td>\n",
       "      <td>31.78</td>\n",
       "      <td>35.00</td>\n",
       "      <td>35.28</td>\n",
       "      <td>136.0</td>\n",
       "      <td>117.27</td>\n",
       "      <td>251.15</td>\n",
       "    </tr>\n",
       "    <tr>\n",
       "      <th>2016-06-15</th>\n",
       "      <td>Well 1</td>\n",
       "      <td>Pre-perf</td>\n",
       "      <td>31.70</td>\n",
       "      <td>35.21</td>\n",
       "      <td>35.48</td>\n",
       "      <td>136.0</td>\n",
       "      <td>118.01</td>\n",
       "      <td>250.82</td>\n",
       "    </tr>\n",
       "    <tr>\n",
       "      <th>2016-06-16</th>\n",
       "      <td>Well 1</td>\n",
       "      <td>Pre-perf</td>\n",
       "      <td>31.73</td>\n",
       "      <td>34.90</td>\n",
       "      <td>35.18</td>\n",
       "      <td>136.0</td>\n",
       "      <td>117.27</td>\n",
       "      <td>250.81</td>\n",
       "    </tr>\n",
       "    <tr>\n",
       "      <th>2016-06-17</th>\n",
       "      <td>Well 1</td>\n",
       "      <td>Pre-perf</td>\n",
       "      <td>31.59</td>\n",
       "      <td>34.89</td>\n",
       "      <td>35.17</td>\n",
       "      <td>135.0</td>\n",
       "      <td>118.01</td>\n",
       "      <td>249.90</td>\n",
       "    </tr>\n",
       "    <tr>\n",
       "      <th>2016-06-18</th>\n",
       "      <td>Well 1</td>\n",
       "      <td>Pre-perf</td>\n",
       "      <td>31.89</td>\n",
       "      <td>35.02</td>\n",
       "      <td>35.30</td>\n",
       "      <td>136.0</td>\n",
       "      <td>118.01</td>\n",
       "      <td>249.97</td>\n",
       "    </tr>\n",
       "  </tbody>\n",
       "</table>\n",
       "</div>"
      ],
      "text/plain": [
       "              Well Well_Type  WaterRate  CasingHeadPressure  \\\n",
       "Date                                                          \n",
       "2018-07-12  Well 1  Pre-perf      26.31               47.86   \n",
       "2016-06-10  Well 1  Pre-perf      31.61               35.36   \n",
       "2016-06-11  Well 1  Pre-perf      32.60               35.41   \n",
       "2016-06-12  Well 1  Pre-perf      31.59               35.21   \n",
       "2016-06-13  Well 1  Pre-perf      31.79               35.27   \n",
       "2016-06-14  Well 1  Pre-perf      31.78               35.00   \n",
       "2016-06-15  Well 1  Pre-perf      31.70               35.21   \n",
       "2016-06-16  Well 1  Pre-perf      31.73               34.90   \n",
       "2016-06-17  Well 1  Pre-perf      31.59               34.89   \n",
       "2016-06-18  Well 1  Pre-perf      31.89               35.02   \n",
       "\n",
       "            TubingHeadPressure  PumpSpeed  Torque  GasRate  \n",
       "Date                                                        \n",
       "2018-07-12               47.85      109.0  118.01   143.45  \n",
       "2016-06-10               35.63      136.0  116.53   255.07  \n",
       "2016-06-11               35.69      136.0  117.27   255.80  \n",
       "2016-06-12               35.49      136.0  118.75   253.27  \n",
       "2016-06-13               35.55      136.0  118.01   251.73  \n",
       "2016-06-14               35.28      136.0  117.27   251.15  \n",
       "2016-06-15               35.48      136.0  118.01   250.82  \n",
       "2016-06-16               35.18      136.0  117.27   250.81  \n",
       "2016-06-17               35.17      135.0  118.01   249.90  \n",
       "2016-06-18               35.30      136.0  118.01   249.97  "
      ]
     },
     "execution_count": 9,
     "metadata": {},
     "output_type": "execute_result"
    }
   ],
   "source": [
    "data = data.sort_values('Well')\n",
    "data.head(10)"
   ]
  },
  {
   "cell_type": "markdown",
   "metadata": {},
   "source": [
    "## Drop unnescessary columns:"
   ]
  },
  {
   "cell_type": "code",
   "execution_count": 10,
   "metadata": {},
   "outputs": [],
   "source": [
    "data.drop('Well_Type', axis = 1, inplace=True)"
   ]
  },
  {
   "cell_type": "code",
   "execution_count": 11,
   "metadata": {},
   "outputs": [
    {
     "data": {
      "text/html": [
       "<div>\n",
       "<style scoped>\n",
       "    .dataframe tbody tr th:only-of-type {\n",
       "        vertical-align: middle;\n",
       "    }\n",
       "\n",
       "    .dataframe tbody tr th {\n",
       "        vertical-align: top;\n",
       "    }\n",
       "\n",
       "    .dataframe thead th {\n",
       "        text-align: right;\n",
       "    }\n",
       "</style>\n",
       "<table border=\"1\" class=\"dataframe\">\n",
       "  <thead>\n",
       "    <tr style=\"text-align: right;\">\n",
       "      <th></th>\n",
       "      <th>Well</th>\n",
       "      <th>WaterRate</th>\n",
       "      <th>CasingHeadPressure</th>\n",
       "      <th>TubingHeadPressure</th>\n",
       "      <th>PumpSpeed</th>\n",
       "      <th>Torque</th>\n",
       "      <th>GasRate</th>\n",
       "    </tr>\n",
       "    <tr>\n",
       "      <th>Date</th>\n",
       "      <th></th>\n",
       "      <th></th>\n",
       "      <th></th>\n",
       "      <th></th>\n",
       "      <th></th>\n",
       "      <th></th>\n",
       "      <th></th>\n",
       "    </tr>\n",
       "  </thead>\n",
       "  <tbody>\n",
       "    <tr>\n",
       "      <th>2018-07-12</th>\n",
       "      <td>Well 1</td>\n",
       "      <td>26.31</td>\n",
       "      <td>47.86</td>\n",
       "      <td>47.85</td>\n",
       "      <td>109.0</td>\n",
       "      <td>118.01</td>\n",
       "      <td>143.45</td>\n",
       "    </tr>\n",
       "    <tr>\n",
       "      <th>2016-06-10</th>\n",
       "      <td>Well 1</td>\n",
       "      <td>31.61</td>\n",
       "      <td>35.36</td>\n",
       "      <td>35.63</td>\n",
       "      <td>136.0</td>\n",
       "      <td>116.53</td>\n",
       "      <td>255.07</td>\n",
       "    </tr>\n",
       "    <tr>\n",
       "      <th>2016-06-11</th>\n",
       "      <td>Well 1</td>\n",
       "      <td>32.60</td>\n",
       "      <td>35.41</td>\n",
       "      <td>35.69</td>\n",
       "      <td>136.0</td>\n",
       "      <td>117.27</td>\n",
       "      <td>255.80</td>\n",
       "    </tr>\n",
       "    <tr>\n",
       "      <th>2016-06-12</th>\n",
       "      <td>Well 1</td>\n",
       "      <td>31.59</td>\n",
       "      <td>35.21</td>\n",
       "      <td>35.49</td>\n",
       "      <td>136.0</td>\n",
       "      <td>118.75</td>\n",
       "      <td>253.27</td>\n",
       "    </tr>\n",
       "    <tr>\n",
       "      <th>2016-06-13</th>\n",
       "      <td>Well 1</td>\n",
       "      <td>31.79</td>\n",
       "      <td>35.27</td>\n",
       "      <td>35.55</td>\n",
       "      <td>136.0</td>\n",
       "      <td>118.01</td>\n",
       "      <td>251.73</td>\n",
       "    </tr>\n",
       "  </tbody>\n",
       "</table>\n",
       "</div>"
      ],
      "text/plain": [
       "              Well  WaterRate  CasingHeadPressure  TubingHeadPressure  \\\n",
       "Date                                                                    \n",
       "2018-07-12  Well 1      26.31               47.86               47.85   \n",
       "2016-06-10  Well 1      31.61               35.36               35.63   \n",
       "2016-06-11  Well 1      32.60               35.41               35.69   \n",
       "2016-06-12  Well 1      31.59               35.21               35.49   \n",
       "2016-06-13  Well 1      31.79               35.27               35.55   \n",
       "\n",
       "            PumpSpeed  Torque  GasRate  \n",
       "Date                                    \n",
       "2018-07-12      109.0  118.01   143.45  \n",
       "2016-06-10      136.0  116.53   255.07  \n",
       "2016-06-11      136.0  117.27   255.80  \n",
       "2016-06-12      136.0  118.75   253.27  \n",
       "2016-06-13      136.0  118.01   251.73  "
      ]
     },
     "execution_count": 11,
     "metadata": {},
     "output_type": "execute_result"
    }
   ],
   "source": [
    "data.head()"
   ]
  },
  {
   "cell_type": "code",
   "execution_count": 12,
   "metadata": {},
   "outputs": [
    {
     "name": "stdout",
     "output_type": "stream",
     "text": [
      "<class 'pandas.core.frame.DataFrame'>\n",
      "DatetimeIndex: 10014 entries, 2018-07-12 to 2018-08-04\n",
      "Data columns (total 7 columns):\n",
      "Well                  10014 non-null object\n",
      "WaterRate             10014 non-null float64\n",
      "CasingHeadPressure    10014 non-null float64\n",
      "TubingHeadPressure    10014 non-null float64\n",
      "PumpSpeed             10014 non-null float64\n",
      "Torque                10014 non-null float64\n",
      "GasRate               10014 non-null float64\n",
      "dtypes: float64(6), object(1)\n",
      "memory usage: 625.9+ KB\n"
     ]
    }
   ],
   "source": [
    "data.info()"
   ]
  },
  {
   "cell_type": "code",
   "execution_count": 13,
   "metadata": {},
   "outputs": [
    {
     "data": {
      "text/html": [
       "<div>\n",
       "<style scoped>\n",
       "    .dataframe tbody tr th:only-of-type {\n",
       "        vertical-align: middle;\n",
       "    }\n",
       "\n",
       "    .dataframe tbody tr th {\n",
       "        vertical-align: top;\n",
       "    }\n",
       "\n",
       "    .dataframe thead th {\n",
       "        text-align: right;\n",
       "    }\n",
       "</style>\n",
       "<table border=\"1\" class=\"dataframe\">\n",
       "  <thead>\n",
       "    <tr style=\"text-align: right;\">\n",
       "      <th></th>\n",
       "      <th>WaterRate</th>\n",
       "      <th>CasingHeadPressure</th>\n",
       "      <th>TubingHeadPressure</th>\n",
       "      <th>PumpSpeed</th>\n",
       "      <th>Torque</th>\n",
       "      <th>GasRate</th>\n",
       "    </tr>\n",
       "  </thead>\n",
       "  <tbody>\n",
       "    <tr>\n",
       "      <th>count</th>\n",
       "      <td>10014.000000</td>\n",
       "      <td>10014.000000</td>\n",
       "      <td>10014.000000</td>\n",
       "      <td>10014.000000</td>\n",
       "      <td>10014.000000</td>\n",
       "      <td>10014.000000</td>\n",
       "    </tr>\n",
       "    <tr>\n",
       "      <th>mean</th>\n",
       "      <td>255.401030</td>\n",
       "      <td>58.345532</td>\n",
       "      <td>57.180661</td>\n",
       "      <td>143.820432</td>\n",
       "      <td>246.935557</td>\n",
       "      <td>446.143849</td>\n",
       "    </tr>\n",
       "    <tr>\n",
       "      <th>std</th>\n",
       "      <td>186.126892</td>\n",
       "      <td>35.609559</td>\n",
       "      <td>20.591074</td>\n",
       "      <td>62.513463</td>\n",
       "      <td>115.562883</td>\n",
       "      <td>400.881072</td>\n",
       "    </tr>\n",
       "    <tr>\n",
       "      <th>min</th>\n",
       "      <td>0.000000</td>\n",
       "      <td>23.000000</td>\n",
       "      <td>0.040000</td>\n",
       "      <td>0.000000</td>\n",
       "      <td>0.010000</td>\n",
       "      <td>0.000000</td>\n",
       "    </tr>\n",
       "    <tr>\n",
       "      <th>25%</th>\n",
       "      <td>118.280000</td>\n",
       "      <td>42.060000</td>\n",
       "      <td>42.500000</td>\n",
       "      <td>100.000000</td>\n",
       "      <td>154.335000</td>\n",
       "      <td>171.482500</td>\n",
       "    </tr>\n",
       "    <tr>\n",
       "      <th>50%</th>\n",
       "      <td>221.490000</td>\n",
       "      <td>51.050000</td>\n",
       "      <td>53.850000</td>\n",
       "      <td>135.000000</td>\n",
       "      <td>242.660000</td>\n",
       "      <td>337.430000</td>\n",
       "    </tr>\n",
       "    <tr>\n",
       "      <th>75%</th>\n",
       "      <td>366.010000</td>\n",
       "      <td>61.350000</td>\n",
       "      <td>70.477500</td>\n",
       "      <td>188.000000</td>\n",
       "      <td>314.000000</td>\n",
       "      <td>548.610000</td>\n",
       "    </tr>\n",
       "    <tr>\n",
       "      <th>max</th>\n",
       "      <td>1184.130000</td>\n",
       "      <td>397.000000</td>\n",
       "      <td>387.000000</td>\n",
       "      <td>343.000000</td>\n",
       "      <td>753.000000</td>\n",
       "      <td>1867.940000</td>\n",
       "    </tr>\n",
       "  </tbody>\n",
       "</table>\n",
       "</div>"
      ],
      "text/plain": [
       "          WaterRate  CasingHeadPressure  TubingHeadPressure     PumpSpeed  \\\n",
       "count  10014.000000        10014.000000        10014.000000  10014.000000   \n",
       "mean     255.401030           58.345532           57.180661    143.820432   \n",
       "std      186.126892           35.609559           20.591074     62.513463   \n",
       "min        0.000000           23.000000            0.040000      0.000000   \n",
       "25%      118.280000           42.060000           42.500000    100.000000   \n",
       "50%      221.490000           51.050000           53.850000    135.000000   \n",
       "75%      366.010000           61.350000           70.477500    188.000000   \n",
       "max     1184.130000          397.000000          387.000000    343.000000   \n",
       "\n",
       "             Torque       GasRate  \n",
       "count  10014.000000  10014.000000  \n",
       "mean     246.935557    446.143849  \n",
       "std      115.562883    400.881072  \n",
       "min        0.010000      0.000000  \n",
       "25%      154.335000    171.482500  \n",
       "50%      242.660000    337.430000  \n",
       "75%      314.000000    548.610000  \n",
       "max      753.000000   1867.940000  "
      ]
     },
     "execution_count": 13,
     "metadata": {},
     "output_type": "execute_result"
    }
   ],
   "source": [
    "data.describe()"
   ]
  },
  {
   "cell_type": "markdown",
   "metadata": {},
   "source": [
    "## Number of records in each well:"
   ]
  },
  {
   "cell_type": "code",
   "execution_count": 14,
   "metadata": {},
   "outputs": [
    {
     "data": {
      "text/plain": [
       "Well 1     1359\n",
       "Well 7     1230\n",
       "Well 15    1220\n",
       "Well 9     1199\n",
       "Well 10    1078\n",
       "Well 8     1052\n",
       "Well 14     605\n",
       "Well 12     384\n",
       "Well 13     372\n",
       "Well 6      358\n",
       "Well 3      277\n",
       "Well 2      277\n",
       "Well 4      274\n",
       "Well 5      168\n",
       "Well 11     161\n",
       "Name: Well, dtype: int64"
      ]
     },
     "execution_count": 14,
     "metadata": {},
     "output_type": "execute_result"
    }
   ],
   "source": [
    "wellcount = data.Well.value_counts()\n",
    "wellcount"
   ]
  },
  {
   "cell_type": "markdown",
   "metadata": {},
   "source": [
    "### Prepare the training set:"
   ]
  },
  {
   "cell_type": "code",
   "execution_count": 15,
   "metadata": {},
   "outputs": [],
   "source": [
    "df_train = data[data['Well'] != 'Well 14']"
   ]
  },
  {
   "cell_type": "code",
   "execution_count": 17,
   "metadata": {},
   "outputs": [
    {
     "name": "stdout",
     "output_type": "stream",
     "text": [
      "['Well 1' 'Well 10' 'Well 11' 'Well 12' 'Well 13' 'Well 15' 'Well 2'\n",
      " 'Well 3' 'Well 4' 'Well 5' 'Well 6' 'Well 7' 'Well 8' 'Well 9']\n"
     ]
    }
   ],
   "source": [
    "print(df_train.Well.unique())"
   ]
  },
  {
   "cell_type": "code",
   "execution_count": 22,
   "metadata": {},
   "outputs": [
    {
     "data": {
      "text/plain": [
       "(9409, 7)"
      ]
     },
     "execution_count": 22,
     "metadata": {},
     "output_type": "execute_result"
    }
   ],
   "source": [
    "df_train.shape"
   ]
  },
  {
   "cell_type": "markdown",
   "metadata": {},
   "source": [
    "### Prepare the blind set (Out of sample data) :"
   ]
  },
  {
   "cell_type": "code",
   "execution_count": 23,
   "metadata": {},
   "outputs": [],
   "source": [
    "df_blind = data[data['Well'] == 'Well 14']"
   ]
  },
  {
   "cell_type": "code",
   "execution_count": 24,
   "metadata": {},
   "outputs": [
    {
     "data": {
      "text/html": [
       "<div>\n",
       "<style scoped>\n",
       "    .dataframe tbody tr th:only-of-type {\n",
       "        vertical-align: middle;\n",
       "    }\n",
       "\n",
       "    .dataframe tbody tr th {\n",
       "        vertical-align: top;\n",
       "    }\n",
       "\n",
       "    .dataframe thead th {\n",
       "        text-align: right;\n",
       "    }\n",
       "</style>\n",
       "<table border=\"1\" class=\"dataframe\">\n",
       "  <thead>\n",
       "    <tr style=\"text-align: right;\">\n",
       "      <th></th>\n",
       "      <th>Well</th>\n",
       "      <th>WaterRate</th>\n",
       "      <th>CasingHeadPressure</th>\n",
       "      <th>TubingHeadPressure</th>\n",
       "      <th>PumpSpeed</th>\n",
       "      <th>Torque</th>\n",
       "      <th>GasRate</th>\n",
       "    </tr>\n",
       "    <tr>\n",
       "      <th>Date</th>\n",
       "      <th></th>\n",
       "      <th></th>\n",
       "      <th></th>\n",
       "      <th></th>\n",
       "      <th></th>\n",
       "      <th></th>\n",
       "      <th></th>\n",
       "    </tr>\n",
       "  </thead>\n",
       "  <tbody>\n",
       "    <tr>\n",
       "      <th>2016-07-10</th>\n",
       "      <td>Well 14</td>\n",
       "      <td>505.59</td>\n",
       "      <td>64.60</td>\n",
       "      <td>65.66</td>\n",
       "      <td>220.0</td>\n",
       "      <td>342.23</td>\n",
       "      <td>1425.01</td>\n",
       "    </tr>\n",
       "    <tr>\n",
       "      <th>2016-07-11</th>\n",
       "      <td>Well 14</td>\n",
       "      <td>493.34</td>\n",
       "      <td>60.78</td>\n",
       "      <td>61.86</td>\n",
       "      <td>218.0</td>\n",
       "      <td>329.69</td>\n",
       "      <td>1432.29</td>\n",
       "    </tr>\n",
       "    <tr>\n",
       "      <th>2016-07-12</th>\n",
       "      <td>Well 14</td>\n",
       "      <td>493.34</td>\n",
       "      <td>60.78</td>\n",
       "      <td>61.86</td>\n",
       "      <td>214.0</td>\n",
       "      <td>327.48</td>\n",
       "      <td>1387.49</td>\n",
       "    </tr>\n",
       "    <tr>\n",
       "      <th>2016-07-13</th>\n",
       "      <td>Well 14</td>\n",
       "      <td>503.83</td>\n",
       "      <td>61.30</td>\n",
       "      <td>62.38</td>\n",
       "      <td>220.0</td>\n",
       "      <td>359.93</td>\n",
       "      <td>1361.19</td>\n",
       "    </tr>\n",
       "    <tr>\n",
       "      <th>2016-07-19</th>\n",
       "      <td>Well 14</td>\n",
       "      <td>495.14</td>\n",
       "      <td>63.64</td>\n",
       "      <td>64.63</td>\n",
       "      <td>219.0</td>\n",
       "      <td>345.18</td>\n",
       "      <td>1389.84</td>\n",
       "    </tr>\n",
       "  </tbody>\n",
       "</table>\n",
       "</div>"
      ],
      "text/plain": [
       "               Well  WaterRate  CasingHeadPressure  TubingHeadPressure  \\\n",
       "Date                                                                     \n",
       "2016-07-10  Well 14     505.59               64.60               65.66   \n",
       "2016-07-11  Well 14     493.34               60.78               61.86   \n",
       "2016-07-12  Well 14     493.34               60.78               61.86   \n",
       "2016-07-13  Well 14     503.83               61.30               62.38   \n",
       "2016-07-19  Well 14     495.14               63.64               64.63   \n",
       "\n",
       "            PumpSpeed  Torque  GasRate  \n",
       "Date                                    \n",
       "2016-07-10      220.0  342.23  1425.01  \n",
       "2016-07-11      218.0  329.69  1432.29  \n",
       "2016-07-12      214.0  327.48  1387.49  \n",
       "2016-07-13      220.0  359.93  1361.19  \n",
       "2016-07-19      219.0  345.18  1389.84  "
      ]
     },
     "execution_count": 24,
     "metadata": {},
     "output_type": "execute_result"
    }
   ],
   "source": [
    "df_blind.head()"
   ]
  },
  {
   "cell_type": "code",
   "execution_count": 25,
   "metadata": {},
   "outputs": [
    {
     "data": {
      "text/plain": [
       "(605, 7)"
      ]
     },
     "execution_count": 25,
     "metadata": {},
     "output_type": "execute_result"
    }
   ],
   "source": [
    "df_blind.shape"
   ]
  },
  {
   "cell_type": "markdown",
   "metadata": {},
   "source": [
    "### Slice train set into 'Input (X)' and 'Output (y)':"
   ]
  },
  {
   "cell_type": "code",
   "execution_count": 26,
   "metadata": {},
   "outputs": [],
   "source": [
    "X  = df_train.iloc[:,1:6] # Input for Train data\n",
    "y  = df_train.iloc[:,6:7]   # output for Train data"
   ]
  },
  {
   "cell_type": "code",
   "execution_count": 27,
   "metadata": {},
   "outputs": [
    {
     "data": {
      "text/html": [
       "<div>\n",
       "<style scoped>\n",
       "    .dataframe tbody tr th:only-of-type {\n",
       "        vertical-align: middle;\n",
       "    }\n",
       "\n",
       "    .dataframe tbody tr th {\n",
       "        vertical-align: top;\n",
       "    }\n",
       "\n",
       "    .dataframe thead th {\n",
       "        text-align: right;\n",
       "    }\n",
       "</style>\n",
       "<table border=\"1\" class=\"dataframe\">\n",
       "  <thead>\n",
       "    <tr style=\"text-align: right;\">\n",
       "      <th></th>\n",
       "      <th>WaterRate</th>\n",
       "      <th>CasingHeadPressure</th>\n",
       "      <th>TubingHeadPressure</th>\n",
       "      <th>PumpSpeed</th>\n",
       "      <th>Torque</th>\n",
       "    </tr>\n",
       "    <tr>\n",
       "      <th>Date</th>\n",
       "      <th></th>\n",
       "      <th></th>\n",
       "      <th></th>\n",
       "      <th></th>\n",
       "      <th></th>\n",
       "    </tr>\n",
       "  </thead>\n",
       "  <tbody>\n",
       "    <tr>\n",
       "      <th>2018-07-12</th>\n",
       "      <td>26.31</td>\n",
       "      <td>47.86</td>\n",
       "      <td>47.85</td>\n",
       "      <td>109.0</td>\n",
       "      <td>118.01</td>\n",
       "    </tr>\n",
       "    <tr>\n",
       "      <th>2016-06-10</th>\n",
       "      <td>31.61</td>\n",
       "      <td>35.36</td>\n",
       "      <td>35.63</td>\n",
       "      <td>136.0</td>\n",
       "      <td>116.53</td>\n",
       "    </tr>\n",
       "    <tr>\n",
       "      <th>2016-06-11</th>\n",
       "      <td>32.60</td>\n",
       "      <td>35.41</td>\n",
       "      <td>35.69</td>\n",
       "      <td>136.0</td>\n",
       "      <td>117.27</td>\n",
       "    </tr>\n",
       "    <tr>\n",
       "      <th>2016-06-12</th>\n",
       "      <td>31.59</td>\n",
       "      <td>35.21</td>\n",
       "      <td>35.49</td>\n",
       "      <td>136.0</td>\n",
       "      <td>118.75</td>\n",
       "    </tr>\n",
       "    <tr>\n",
       "      <th>2016-06-13</th>\n",
       "      <td>31.79</td>\n",
       "      <td>35.27</td>\n",
       "      <td>35.55</td>\n",
       "      <td>136.0</td>\n",
       "      <td>118.01</td>\n",
       "    </tr>\n",
       "  </tbody>\n",
       "</table>\n",
       "</div>"
      ],
      "text/plain": [
       "            WaterRate  CasingHeadPressure  TubingHeadPressure  PumpSpeed  \\\n",
       "Date                                                                       \n",
       "2018-07-12      26.31               47.86               47.85      109.0   \n",
       "2016-06-10      31.61               35.36               35.63      136.0   \n",
       "2016-06-11      32.60               35.41               35.69      136.0   \n",
       "2016-06-12      31.59               35.21               35.49      136.0   \n",
       "2016-06-13      31.79               35.27               35.55      136.0   \n",
       "\n",
       "            Torque  \n",
       "Date                \n",
       "2018-07-12  118.01  \n",
       "2016-06-10  116.53  \n",
       "2016-06-11  117.27  \n",
       "2016-06-12  118.75  \n",
       "2016-06-13  118.01  "
      ]
     },
     "execution_count": 27,
     "metadata": {},
     "output_type": "execute_result"
    }
   ],
   "source": [
    "X.head()"
   ]
  },
  {
   "cell_type": "code",
   "execution_count": 28,
   "metadata": {},
   "outputs": [
    {
     "data": {
      "text/html": [
       "<div>\n",
       "<style scoped>\n",
       "    .dataframe tbody tr th:only-of-type {\n",
       "        vertical-align: middle;\n",
       "    }\n",
       "\n",
       "    .dataframe tbody tr th {\n",
       "        vertical-align: top;\n",
       "    }\n",
       "\n",
       "    .dataframe thead th {\n",
       "        text-align: right;\n",
       "    }\n",
       "</style>\n",
       "<table border=\"1\" class=\"dataframe\">\n",
       "  <thead>\n",
       "    <tr style=\"text-align: right;\">\n",
       "      <th></th>\n",
       "      <th>GasRate</th>\n",
       "    </tr>\n",
       "    <tr>\n",
       "      <th>Date</th>\n",
       "      <th></th>\n",
       "    </tr>\n",
       "  </thead>\n",
       "  <tbody>\n",
       "    <tr>\n",
       "      <th>2018-07-12</th>\n",
       "      <td>143.45</td>\n",
       "    </tr>\n",
       "    <tr>\n",
       "      <th>2016-06-10</th>\n",
       "      <td>255.07</td>\n",
       "    </tr>\n",
       "    <tr>\n",
       "      <th>2016-06-11</th>\n",
       "      <td>255.80</td>\n",
       "    </tr>\n",
       "    <tr>\n",
       "      <th>2016-06-12</th>\n",
       "      <td>253.27</td>\n",
       "    </tr>\n",
       "    <tr>\n",
       "      <th>2016-06-13</th>\n",
       "      <td>251.73</td>\n",
       "    </tr>\n",
       "  </tbody>\n",
       "</table>\n",
       "</div>"
      ],
      "text/plain": [
       "            GasRate\n",
       "Date               \n",
       "2018-07-12   143.45\n",
       "2016-06-10   255.07\n",
       "2016-06-11   255.80\n",
       "2016-06-12   253.27\n",
       "2016-06-13   251.73"
      ]
     },
     "execution_count": 28,
     "metadata": {},
     "output_type": "execute_result"
    }
   ],
   "source": [
    "y.head()"
   ]
  },
  {
   "cell_type": "markdown",
   "metadata": {},
   "source": [
    "### Convert training and blind dataframes to matrix form:"
   ]
  },
  {
   "cell_type": "code",
   "execution_count": 29,
   "metadata": {},
   "outputs": [
    {
     "name": "stderr",
     "output_type": "stream",
     "text": [
      "C:\\Users\\H231148\\AppData\\Local\\Continuum\\anaconda3\\envs\\myenvSS\\lib\\site-packages\\ipykernel_launcher.py:1: FutureWarning: Method .as_matrix will be removed in a future version. Use .values instead.\n",
      "  \"\"\"Entry point for launching an IPython kernel.\n"
     ]
    }
   ],
   "source": [
    "X  = X.as_matrix() "
   ]
  },
  {
   "cell_type": "code",
   "execution_count": 30,
   "metadata": {},
   "outputs": [
    {
     "data": {
      "text/plain": [
       "array([[ 26.31,  47.86,  47.85, 109.  , 118.01],\n",
       "       [ 31.61,  35.36,  35.63, 136.  , 116.53],\n",
       "       [ 32.6 ,  35.41,  35.69, 136.  , 117.27],\n",
       "       ...,\n",
       "       [236.33,  65.27,  65.85, 111.  , 224.96],\n",
       "       [236.55,  65.27,  65.85, 110.  , 224.22],\n",
       "       [ 20.  ,  50.  ,   3.  , 136.  , 246.  ]])"
      ]
     },
     "execution_count": 30,
     "metadata": {},
     "output_type": "execute_result"
    }
   ],
   "source": [
    "X"
   ]
  },
  {
   "cell_type": "code",
   "execution_count": 31,
   "metadata": {},
   "outputs": [
    {
     "data": {
      "text/plain": [
       "(9409, 5)"
      ]
     },
     "execution_count": 31,
     "metadata": {},
     "output_type": "execute_result"
    }
   ],
   "source": [
    "X.shape"
   ]
  },
  {
   "cell_type": "code",
   "execution_count": 32,
   "metadata": {},
   "outputs": [
    {
     "name": "stderr",
     "output_type": "stream",
     "text": [
      "C:\\Users\\H231148\\AppData\\Local\\Continuum\\anaconda3\\envs\\myenvSS\\lib\\site-packages\\ipykernel_launcher.py:1: FutureWarning: Method .as_matrix will be removed in a future version. Use .values instead.\n",
      "  \"\"\"Entry point for launching an IPython kernel.\n"
     ]
    }
   ],
   "source": [
    "y = y.as_matrix() # Train"
   ]
  },
  {
   "cell_type": "code",
   "execution_count": 33,
   "metadata": {},
   "outputs": [
    {
     "data": {
      "text/plain": [
       "array([[143.45],\n",
       "       [255.07],\n",
       "       [255.8 ],\n",
       "       ...,\n",
       "       [110.43],\n",
       "       [115.99],\n",
       "       [135.  ]])"
      ]
     },
     "execution_count": 33,
     "metadata": {},
     "output_type": "execute_result"
    }
   ],
   "source": [
    "y"
   ]
  },
  {
   "cell_type": "code",
   "execution_count": 34,
   "metadata": {},
   "outputs": [
    {
     "data": {
      "text/plain": [
       "(9409, 1)"
      ]
     },
     "execution_count": 34,
     "metadata": {},
     "output_type": "execute_result"
    }
   ],
   "source": [
    "y.shape"
   ]
  },
  {
   "cell_type": "markdown",
   "metadata": {},
   "source": [
    "### Slice blind set into 'Input (X_blind)' and 'Output (y_blind)':"
   ]
  },
  {
   "cell_type": "code",
   "execution_count": 35,
   "metadata": {},
   "outputs": [],
   "source": [
    "X_blind  = df_blind.iloc[:,1:6] # Input for Train data\n",
    "y_blind  = df_blind.iloc[:,6:7]   # output for Train data"
   ]
  },
  {
   "cell_type": "code",
   "execution_count": 36,
   "metadata": {},
   "outputs": [
    {
     "name": "stderr",
     "output_type": "stream",
     "text": [
      "C:\\Users\\H231148\\AppData\\Local\\Continuum\\anaconda3\\envs\\myenvSS\\lib\\site-packages\\ipykernel_launcher.py:1: FutureWarning: Method .as_matrix will be removed in a future version. Use .values instead.\n",
      "  \"\"\"Entry point for launching an IPython kernel.\n"
     ]
    }
   ],
   "source": [
    "X_blind  = X_blind.as_matrix() "
   ]
  },
  {
   "cell_type": "code",
   "execution_count": 37,
   "metadata": {},
   "outputs": [
    {
     "data": {
      "text/plain": [
       "array([[505.59,  64.6 ,  65.66, 220.  , 342.23],\n",
       "       [493.34,  60.78,  61.86, 218.  , 329.69],\n",
       "       [493.34,  60.78,  61.86, 214.  , 327.48],\n",
       "       ...,\n",
       "       [520.51,  87.02,  89.34, 189.  , 313.  ],\n",
       "       [519.76,  86.73,  89.05, 189.  , 315.  ],\n",
       "       [524.35,  87.31,  89.63, 189.  , 304.  ]])"
      ]
     },
     "execution_count": 37,
     "metadata": {},
     "output_type": "execute_result"
    }
   ],
   "source": [
    "X_blind"
   ]
  },
  {
   "cell_type": "code",
   "execution_count": 38,
   "metadata": {},
   "outputs": [
    {
     "data": {
      "text/plain": [
       "(605, 5)"
      ]
     },
     "execution_count": 38,
     "metadata": {},
     "output_type": "execute_result"
    }
   ],
   "source": [
    "X_blind.shape"
   ]
  },
  {
   "cell_type": "code",
   "execution_count": 39,
   "metadata": {},
   "outputs": [
    {
     "name": "stderr",
     "output_type": "stream",
     "text": [
      "C:\\Users\\H231148\\AppData\\Local\\Continuum\\anaconda3\\envs\\myenvSS\\lib\\site-packages\\ipykernel_launcher.py:1: FutureWarning: Method .as_matrix will be removed in a future version. Use .values instead.\n",
      "  \"\"\"Entry point for launching an IPython kernel.\n"
     ]
    }
   ],
   "source": [
    "y_blind = y_blind.as_matrix()"
   ]
  },
  {
   "cell_type": "code",
   "execution_count": 46,
   "metadata": {
    "scrolled": true
   },
   "outputs": [
    {
     "name": "stdout",
     "output_type": "stream",
     "text": [
      "[[1.42501e+03]\n",
      " [1.43229e+03]\n",
      " [1.38749e+03]\n",
      " [1.36119e+03]\n",
      " [1.38984e+03]\n",
      " [1.40128e+03]\n",
      " [1.34717e+03]\n",
      " [1.38752e+03]\n",
      " [1.42555e+03]\n",
      " [1.41961e+03]\n",
      " [1.43713e+03]\n",
      " [1.36784e+03]\n",
      " [1.32942e+03]\n",
      " [1.36749e+03]\n",
      " [1.37340e+03]\n",
      " [1.35985e+03]\n",
      " [1.40770e+03]\n",
      " [1.41470e+03]\n",
      " [1.33443e+03]\n",
      " [1.31973e+03]\n",
      " [1.32707e+03]\n",
      " [1.41039e+03]\n",
      " [1.39666e+03]\n",
      " [1.33209e+03]\n",
      " [1.36197e+03]\n",
      " [1.41899e+03]\n",
      " [1.38522e+03]\n",
      " [1.32898e+03]\n",
      " [1.42543e+03]\n",
      " [7.23390e+02]\n",
      " [1.41805e+03]\n",
      " [1.22889e+03]\n",
      " [1.16576e+03]\n",
      " [1.31364e+03]\n",
      " [1.31634e+03]\n",
      " [1.32691e+03]\n",
      " [1.32535e+03]\n",
      " [1.30789e+03]\n",
      " [1.30789e+03]\n",
      " [1.34103e+03]\n",
      " [1.34723e+03]\n",
      " [1.36170e+03]\n",
      " [1.37173e+03]\n",
      " [1.31035e+03]\n",
      " [1.31035e+03]\n",
      " [1.43442e+03]\n",
      " [1.42166e+03]\n",
      " [1.39990e+03]\n",
      " [1.35319e+03]\n",
      " [1.35319e+03]\n",
      " [1.29672e+03]\n",
      " [1.35836e+03]\n",
      " [1.43043e+03]\n",
      " [1.42693e+03]\n",
      " [1.40115e+03]\n",
      " [1.45603e+03]\n",
      " [1.52053e+03]\n",
      " [1.47715e+03]\n",
      " [1.46898e+03]\n",
      " [1.48724e+03]\n",
      " [1.49110e+03]\n",
      " [1.50359e+03]\n",
      " [1.50424e+03]\n",
      " [1.50266e+03]\n",
      " [1.49592e+03]\n",
      " [1.49776e+03]\n",
      " [1.49852e+03]\n",
      " [1.49581e+03]\n",
      " [1.49868e+03]\n",
      " [1.51504e+03]\n",
      " [1.51315e+03]\n",
      " [1.50575e+03]\n",
      " [1.50630e+03]\n",
      " [1.50684e+03]\n",
      " [1.52543e+03]\n",
      " [1.51104e+03]\n",
      " [1.52534e+03]\n",
      " [1.54984e+03]\n",
      " [1.54178e+03]\n",
      " [1.51802e+03]\n",
      " [1.48129e+03]\n",
      " [1.48323e+03]\n",
      " [3.58630e+02]\n",
      " [1.47024e+03]\n",
      " [1.46857e+03]\n",
      " [1.45448e+03]\n",
      " [1.45448e+03]\n",
      " [1.47379e+03]\n",
      " [1.47572e+03]\n",
      " [1.47415e+03]\n",
      " [1.48391e+03]\n",
      " [1.47166e+03]\n",
      " [1.46451e+03]\n",
      " [1.46931e+03]\n",
      " [1.46924e+03]\n",
      " [1.46382e+03]\n",
      " [1.46663e+03]\n",
      " [1.48244e+03]\n",
      " [1.47540e+03]\n",
      " [1.46963e+03]\n",
      " [1.47569e+03]\n",
      " [1.45707e+03]\n",
      " [1.47158e+03]\n",
      " [1.46426e+03]\n",
      " [1.47287e+03]\n",
      " [1.47959e+03]\n",
      " [1.47959e+03]\n",
      " [1.46506e+03]\n",
      " [1.46861e+03]\n",
      " [1.47407e+03]\n",
      " [1.49118e+03]\n",
      " [1.47749e+03]\n",
      " [1.47073e+03]\n",
      " [1.45430e+03]\n",
      " [1.09393e+03]\n",
      " [1.50678e+03]\n",
      " [1.15880e+03]\n",
      " [1.46047e+03]\n",
      " [1.45191e+03]\n",
      " [1.45509e+03]\n",
      " [1.45259e+03]\n",
      " [1.44642e+03]\n",
      " [1.43702e+03]\n",
      " [1.42607e+03]\n",
      " [1.41847e+03]\n",
      " [1.41236e+03]\n",
      " [1.40217e+03]\n",
      " [1.39582e+03]\n",
      " [1.38827e+03]\n",
      " [1.38246e+03]\n",
      " [1.38092e+03]\n",
      " [1.36844e+03]\n",
      " [1.36218e+03]\n",
      " [1.35359e+03]\n",
      " [1.34419e+03]\n",
      " [1.32888e+03]\n",
      " [1.33022e+03]\n",
      " [1.32866e+03]\n",
      " [1.31494e+03]\n",
      " [1.30531e+03]\n",
      " [1.30187e+03]\n",
      " [1.29202e+03]\n",
      " [1.46663e+03]\n",
      " [1.48301e+03]\n",
      " [1.48728e+03]\n",
      " [1.49121e+03]\n",
      " [1.48407e+03]\n",
      " [3.73590e+02]\n",
      " [9.51510e+02]\n",
      " [1.45469e+03]\n",
      " [1.73921e+03]\n",
      " [1.73384e+03]\n",
      " [1.76431e+03]\n",
      " [1.68755e+03]\n",
      " [1.70749e+03]\n",
      " [1.64014e+03]\n",
      " [1.59009e+03]\n",
      " [1.56720e+03]\n",
      " [1.28439e+03]\n",
      " [1.55773e+03]\n",
      " [1.49861e+03]\n",
      " [1.49861e+03]\n",
      " [1.32819e+03]\n",
      " [1.33303e+03]\n",
      " [1.41655e+03]\n",
      " [1.46802e+03]\n",
      " [1.51000e+03]\n",
      " [1.51352e+03]\n",
      " [1.51892e+03]\n",
      " [1.51117e+03]\n",
      " [1.50069e+03]\n",
      " [1.49962e+03]\n",
      " [1.55138e+03]\n",
      " [1.09393e+03]\n",
      " [1.27590e+03]\n",
      " [1.26861e+03]\n",
      " [1.21196e+03]\n",
      " [1.22516e+03]\n",
      " [1.22913e+03]\n",
      " [1.23648e+03]\n",
      " [1.24069e+03]\n",
      " [1.23012e+03]\n",
      " [1.25790e+03]\n",
      " [1.26399e+03]\n",
      " [1.28193e+03]\n",
      " [1.29370e+03]\n",
      " [1.30999e+03]\n",
      " [1.32319e+03]\n",
      " [1.35507e+03]\n",
      " [1.32833e+03]\n",
      " [1.32833e+03]\n",
      " [1.05940e+03]\n",
      " [1.06166e+03]\n",
      " [1.08858e+03]\n",
      " [1.10657e+03]\n",
      " [1.11796e+03]\n",
      " [1.12280e+03]\n",
      " [1.12989e+03]\n",
      " [1.13344e+03]\n",
      " [1.13178e+03]\n",
      " [1.14181e+03]\n",
      " [1.19830e+03]\n",
      " [1.19380e+03]\n",
      " [1.19599e+03]\n",
      " [1.20571e+03]\n",
      " [1.26552e+03]\n",
      " [1.26304e+03]\n",
      " [1.25652e+03]\n",
      " [1.25249e+03]\n",
      " [1.25254e+03]\n",
      " [1.25712e+03]\n",
      " [1.26029e+03]\n",
      " [1.27116e+03]\n",
      " [1.28817e+03]\n",
      " [1.28817e+03]\n",
      " [1.29218e+03]\n",
      " [1.28550e+03]\n",
      " [1.27125e+03]\n",
      " [1.27545e+03]\n",
      " [1.28119e+03]\n",
      " [1.28603e+03]\n",
      " [1.27108e+03]\n",
      " [1.21122e+03]\n",
      " [1.16304e+03]\n",
      " [1.17622e+03]\n",
      " [1.17871e+03]\n",
      " [1.19023e+03]\n",
      " [1.19862e+03]\n",
      " [1.20315e+03]\n",
      " [1.20626e+03]\n",
      " [1.21393e+03]\n",
      " [1.28238e+03]\n",
      " [1.48407e+03]\n",
      " [9.01860e+02]\n",
      " [1.49992e+03]\n",
      " [4.35200e+02]\n",
      " [4.53540e+02]\n",
      " [4.50520e+02]\n",
      " [4.39420e+02]\n",
      " [4.30400e+02]\n",
      " [4.30400e+02]\n",
      " [4.21640e+02]\n",
      " [4.40980e+02]\n",
      " [4.52000e+02]\n",
      " [4.64430e+02]\n",
      " [4.65240e+02]\n",
      " [4.82350e+02]\n",
      " [4.97190e+02]\n",
      " [5.03650e+02]\n",
      " [5.07410e+02]\n",
      " [4.83310e+02]\n",
      " [4.89000e+02]\n",
      " [4.94060e+02]\n",
      " [5.03540e+02]\n",
      " [3.73000e+02]\n",
      " [5.30550e+02]\n",
      " [3.57910e+02]\n",
      " [2.18770e+02]\n",
      " [7.71000e+00]\n",
      " [1.06000e+01]\n",
      " [1.62800e+01]\n",
      " [1.61600e+01]\n",
      " [3.87900e+01]\n",
      " [5.19800e+01]\n",
      " [5.90000e+01]\n",
      " [5.26500e+01]\n",
      " [8.10000e+01]\n",
      " [9.29700e+01]\n",
      " [1.30040e+02]\n",
      " [1.65310e+02]\n",
      " [1.73600e+02]\n",
      " [1.93430e+02]\n",
      " [2.23530e+02]\n",
      " [2.60040e+02]\n",
      " [2.85000e+02]\n",
      " [1.06070e+02]\n",
      " [1.40490e+02]\n",
      " [3.24000e+02]\n",
      " [5.46260e+02]\n",
      " [5.66020e+02]\n",
      " [5.56190e+02]\n",
      " [7.20000e+00]\n",
      " [7.96000e+00]\n",
      " [7.13000e+00]\n",
      " [7.00000e+00]\n",
      " [6.36000e+00]\n",
      " [6.06000e+00]\n",
      " [5.44000e+00]\n",
      " [3.22000e+00]\n",
      " [1.36000e+00]\n",
      " [0.00000e+00]\n",
      " [0.00000e+00]\n",
      " [6.84000e+00]\n",
      " [1.10000e+00]\n",
      " [3.20000e-01]\n",
      " [5.31000e+00]\n",
      " [2.50000e+01]\n",
      " [2.74300e+01]\n",
      " [2.74300e+01]\n",
      " [3.33200e+01]\n",
      " [6.71000e+00]\n",
      " [6.20000e+00]\n",
      " [4.50000e+00]\n",
      " [4.60000e+00]\n",
      " [5.69800e+02]\n",
      " [5.81000e+02]\n",
      " [5.96110e+02]\n",
      " [6.03270e+02]\n",
      " [6.09000e+02]\n",
      " [6.15690e+02]\n",
      " [6.32500e+02]\n",
      " [6.33510e+02]\n",
      " [6.41230e+02]\n",
      " [3.00000e+00]\n",
      " [6.41230e+02]\n",
      " [6.72110e+02]\n",
      " [6.75000e+02]\n",
      " [8.19000e+02]\n",
      " [8.78800e+02]\n",
      " [8.79000e+02]\n",
      " [3.02000e+02]\n",
      " [1.17000e+01]\n",
      " [8.19000e+00]\n",
      " [5.00000e+00]\n",
      " [6.66660e+02]\n",
      " [2.29000e+00]\n",
      " [2.27000e+00]\n",
      " [2.05000e+00]\n",
      " [6.62500e+01]\n",
      " [6.25500e+01]\n",
      " [6.95200e+01]\n",
      " [5.82600e+01]\n",
      " [6.30000e+01]\n",
      " [6.67400e+01]\n",
      " [6.40900e+01]\n",
      " [7.00000e+01]\n",
      " [2.23500e+01]\n",
      " [1.15200e+01]\n",
      " [3.00000e+00]\n",
      " [1.60000e+01]\n",
      " [3.37000e+00]\n",
      " [3.50000e-01]\n",
      " [4.60000e-01]\n",
      " [5.00000e+00]\n",
      " [2.55500e+01]\n",
      " [4.80000e+01]\n",
      " [5.88000e+00]\n",
      " [5.63900e+01]\n",
      " [4.54500e+01]\n",
      " [2.85300e+01]\n",
      " [3.17900e+01]\n",
      " [1.49339e+03]\n",
      " [1.40000e+01]\n",
      " [7.00000e+00]\n",
      " [2.00000e+01]\n",
      " [2.20000e+01]\n",
      " [1.70000e+01]\n",
      " [4.02000e+00]\n",
      " [3.00000e+00]\n",
      " [1.01200e+01]\n",
      " [7.15000e+00]\n",
      " [1.90000e+01]\n",
      " [3.73800e+01]\n",
      " [2.31700e+01]\n",
      " [2.10000e+01]\n",
      " [4.50000e+01]\n",
      " [1.87900e+01]\n",
      " [2.04700e+01]\n",
      " [1.10000e+01]\n",
      " [4.20500e+01]\n",
      " [5.00000e+01]\n",
      " [3.50000e+01]\n",
      " [2.11000e+00]\n",
      " [7.00000e+00]\n",
      " [2.45100e+01]\n",
      " [1.39120e+02]\n",
      " [1.65000e+02]\n",
      " [1.91890e+02]\n",
      " [1.96080e+02]\n",
      " [2.13040e+02]\n",
      " [2.27940e+02]\n",
      " [2.54000e+02]\n",
      " [1.90000e+01]\n",
      " [1.00000e+00]\n",
      " [0.00000e+00]\n",
      " [0.00000e+00]\n",
      " [0.00000e+00]\n",
      " [0.00000e+00]\n",
      " [0.00000e+00]\n",
      " [0.00000e+00]\n",
      " [0.00000e+00]\n",
      " [2.21000e+00]\n",
      " [1.00000e+00]\n",
      " [6.00000e-01]\n",
      " [1.39120e+02]\n",
      " [1.30060e+02]\n",
      " [1.19100e+02]\n",
      " [1.17640e+02]\n",
      " [3.00000e+01]\n",
      " [2.97100e+01]\n",
      " [4.36500e+01]\n",
      " [4.60000e+01]\n",
      " [6.91800e+01]\n",
      " [1.64490e+02]\n",
      " [2.19400e+02]\n",
      " [2.30740e+02]\n",
      " [2.43000e+02]\n",
      " [2.74500e+01]\n",
      " [2.68510e+02]\n",
      " [2.99440e+02]\n",
      " [3.13000e+02]\n",
      " [3.88580e+02]\n",
      " [4.13510e+02]\n",
      " [4.17740e+02]\n",
      " [4.42390e+02]\n",
      " [6.89200e+01]\n",
      " [1.07520e+02]\n",
      " [1.15000e+02]\n",
      " [2.83400e+02]\n",
      " [2.68000e+00]\n",
      " [1.90000e+01]\n",
      " [2.12600e+01]\n",
      " [1.30743e+03]\n",
      " [1.31453e+03]\n",
      " [1.31743e+03]\n",
      " [1.31927e+03]\n",
      " [1.31152e+03]\n",
      " [1.32143e+03]\n",
      " [1.38764e+03]\n",
      " [1.39563e+03]\n",
      " [1.39030e+03]\n",
      " [1.39355e+03]\n",
      " [1.40193e+03]\n",
      " [1.40484e+03]\n",
      " [1.41109e+03]\n",
      " [1.41494e+03]\n",
      " [1.39885e+03]\n",
      " [1.42170e+03]\n",
      " [1.42170e+03]\n",
      " [1.43667e+03]\n",
      " [1.46096e+03]\n",
      " [1.31382e+03]\n",
      " [1.46096e+03]\n",
      " [1.31383e+03]\n",
      " [1.30491e+03]\n",
      " [1.09004e+03]\n",
      " [1.17863e+03]\n",
      " [1.18663e+03]\n",
      " [1.19523e+03]\n",
      " [1.20455e+03]\n",
      " [1.21300e+03]\n",
      " [1.20865e+03]\n",
      " [1.21397e+03]\n",
      " [1.22184e+03]\n",
      " [1.22295e+03]\n",
      " [1.22765e+03]\n",
      " [1.24310e+03]\n",
      " [1.27170e+03]\n",
      " [1.31771e+03]\n",
      " [1.31454e+03]\n",
      " [1.30846e+03]\n",
      " [1.31301e+03]\n",
      " [1.30949e+03]\n",
      " [1.31112e+03]\n",
      " [1.30101e+03]\n",
      " [1.47201e+03]\n",
      " [1.46519e+03]\n",
      " [1.45960e+03]\n",
      " [1.48078e+03]\n",
      " [1.47777e+03]\n",
      " [1.46387e+03]\n",
      " [1.44899e+03]\n",
      " [1.44294e+03]\n",
      " [1.43318e+03]\n",
      " [1.43536e+03]\n",
      " [1.44308e+03]\n",
      " [1.44308e+03]\n",
      " [1.44280e+03]\n",
      " [1.48428e+03]\n",
      " [1.50683e+03]\n",
      " [1.50388e+03]\n",
      " [1.52613e+03]\n",
      " [1.51567e+03]\n",
      " [1.51567e+03]\n",
      " [1.50621e+03]\n",
      " [1.49853e+03]\n",
      " [8.00000e+00]\n",
      " [1.49146e+03]\n",
      " [1.50635e+03]\n",
      " [1.52575e+03]\n",
      " [1.52253e+03]\n",
      " [1.44965e+03]\n",
      " [1.44201e+03]\n",
      " [1.43534e+03]\n",
      " [1.43534e+03]\n",
      " [1.45738e+03]\n",
      " [1.48043e+03]\n",
      " [1.48585e+03]\n",
      " [1.49837e+03]\n",
      " [1.50519e+03]\n",
      " [1.04156e+03]\n",
      " [1.51109e+03]\n",
      " [1.51151e+03]\n",
      " [1.50584e+03]\n",
      " [1.48346e+03]\n",
      " [1.46245e+03]\n",
      " [1.46987e+03]\n",
      " [1.47782e+03]\n",
      " [1.50336e+03]\n",
      " [1.51097e+03]\n",
      " [1.52254e+03]\n",
      " [1.51857e+03]\n",
      " [1.02657e+03]\n",
      " [1.48149e+03]\n",
      " [1.01182e+03]\n",
      " [3.39000e+01]\n",
      " [3.66100e+01]\n",
      " [3.98200e+01]\n",
      " [3.83100e+01]\n",
      " [3.76800e+01]\n",
      " [3.64300e+01]\n",
      " [3.70900e+01]\n",
      " [3.58400e+01]\n",
      " [3.76300e+01]\n",
      " [4.20500e+01]\n",
      " [4.59700e+01]\n",
      " [8.69700e+01]\n",
      " [9.00400e+01]\n",
      " [1.11620e+02]\n",
      " [1.37930e+02]\n",
      " [1.58440e+02]\n",
      " [2.16520e+02]\n",
      " [2.45530e+02]\n",
      " [2.65930e+02]\n",
      " [6.76800e+01]\n",
      " [4.76370e+02]\n",
      " [7.61760e+02]\n",
      " [3.99340e+02]\n",
      " [2.20000e+01]\n",
      " [1.02532e+03]\n",
      " [4.90600e+01]\n",
      " [4.35800e+01]\n",
      " [4.35800e+01]\n",
      " [3.96000e+01]\n",
      " [5.96700e+01]\n",
      " [5.58700e+01]\n",
      " [5.60300e+01]\n",
      " [2.97410e+02]\n",
      " [6.99600e+01]\n",
      " [1.07130e+02]\n",
      " [1.12150e+02]\n",
      " [1.17720e+02]\n",
      " [1.23240e+02]\n",
      " [1.27990e+02]\n",
      " [1.33500e+02]\n",
      " [1.40550e+02]\n",
      " [1.49400e+02]\n",
      " [1.56260e+02]\n",
      " [6.99600e+01]\n",
      " [3.34430e+02]\n",
      " [9.69900e+01]\n",
      " [4.14710e+02]\n",
      " [8.20840e+02]\n",
      " [8.59770e+02]\n",
      " [8.82460e+02]\n",
      " [8.86780e+02]\n",
      " [9.21580e+02]\n",
      " [9.28470e+02]\n",
      " [9.24950e+02]\n",
      " [9.29770e+02]\n",
      " [9.31220e+02]\n",
      " [9.40500e+02]\n",
      " [9.46840e+02]\n",
      " [9.65560e+02]\n",
      " [9.78950e+02]\n",
      " [9.82960e+02]\n",
      " [9.84630e+02]\n",
      " [1.00072e+03]\n",
      " [3.86450e+02]\n",
      " [9.96700e+02]\n",
      " [9.96700e+02]\n",
      " [8.20840e+02]\n",
      " [8.11900e+02]\n",
      " [9.57090e+02]\n",
      " [7.94550e+02]\n",
      " [4.67370e+02]\n",
      " [5.07330e+02]\n",
      " [8.09370e+02]\n",
      " [5.17890e+02]\n",
      " [5.38830e+02]\n",
      " [5.64490e+02]\n",
      " [4.44910e+02]\n",
      " [5.87860e+02]\n",
      " [6.27890e+02]\n",
      " [6.45380e+02]\n",
      " [5.87860e+02]\n",
      " [4.67370e+02]\n",
      " [6.91500e+02]\n",
      " [7.31000e+02]\n",
      " [7.82290e+02]\n",
      " [7.47410e+02]\n",
      " [7.49080e+02]\n",
      " [7.60800e+02]\n",
      " [7.72410e+02]\n",
      " [6.63160e+02]]\n"
     ]
    }
   ],
   "source": [
    "print(y_blind)"
   ]
  },
  {
   "cell_type": "code",
   "execution_count": 47,
   "metadata": {},
   "outputs": [
    {
     "data": {
      "text/plain": [
       "(605, 1)"
      ]
     },
     "execution_count": 47,
     "metadata": {},
     "output_type": "execute_result"
    }
   ],
   "source": [
    "y_blind.shape"
   ]
  },
  {
   "cell_type": "markdown",
   "metadata": {},
   "source": [
    "##  Normalization of the data:"
   ]
  },
  {
   "cell_type": "code",
   "execution_count": 48,
   "metadata": {},
   "outputs": [],
   "source": [
    "from sklearn import preprocessing\n",
    "std_scale = preprocessing.StandardScaler()"
   ]
  },
  {
   "cell_type": "markdown",
   "metadata": {},
   "source": [
    "### Normalize 'train set':"
   ]
  },
  {
   "cell_type": "code",
   "execution_count": 49,
   "metadata": {},
   "outputs": [],
   "source": [
    "X_scale = std_scale.fit_transform(X)"
   ]
  },
  {
   "cell_type": "markdown",
   "metadata": {},
   "source": [
    "### Normalize 'blind set':"
   ]
  },
  {
   "cell_type": "code",
   "execution_count": 50,
   "metadata": {},
   "outputs": [],
   "source": [
    "X_blind_scale = std_scale.transform(X_blind)"
   ]
  },
  {
   "cell_type": "markdown",
   "metadata": {},
   "source": [
    "# Modelling:"
   ]
  },
  {
   "cell_type": "markdown",
   "metadata": {},
   "source": [
    "## Split the data into Training and Testing sets:"
   ]
  },
  {
   "cell_type": "code",
   "execution_count": 51,
   "metadata": {},
   "outputs": [],
   "source": [
    "from sklearn.model_selection import train_test_split\n",
    "\n",
    "X_train, X_test, y_train, y_test = train_test_split(X_scale , y, test_size=0.33, random_state=42) "
   ]
  },
  {
   "cell_type": "markdown",
   "metadata": {},
   "source": [
    "## Define and Apply the MLP model:"
   ]
  },
  {
   "cell_type": "code",
   "execution_count": 52,
   "metadata": {},
   "outputs": [],
   "source": [
    "# Initiate all the libraries required for this model\n",
    "from sklearn.neural_network import MLPRegressor\n",
    "from sklearn.metrics import mean_squared_error \n",
    "from sklearn.metrics import explained_variance_score\n",
    "from sklearn.metrics import classification_report"
   ]
  },
  {
   "cell_type": "code",
   "execution_count": 53,
   "metadata": {},
   "outputs": [],
   "source": [
    "# Define the model:\n",
    "model = MLPRegressor(hidden_layer_sizes=(95,85,55,100,5), activation='relu', random_state=1)"
   ]
  },
  {
   "cell_type": "code",
   "execution_count": 54,
   "metadata": {},
   "outputs": [
    {
     "name": "stderr",
     "output_type": "stream",
     "text": [
      "C:\\Users\\H231148\\AppData\\Local\\Continuum\\anaconda3\\envs\\myenvSS\\lib\\site-packages\\sklearn\\neural_network\\multilayer_perceptron.py:1316: DataConversionWarning: A column-vector y was passed when a 1d array was expected. Please change the shape of y to (n_samples, ), for example using ravel().\n",
      "  y = column_or_1d(y, warn=True)\n",
      "C:\\Users\\H231148\\AppData\\Local\\Continuum\\anaconda3\\envs\\myenvSS\\lib\\site-packages\\sklearn\\neural_network\\multilayer_perceptron.py:562: ConvergenceWarning: Stochastic Optimizer: Maximum iterations (200) reached and the optimization hasn't converged yet.\n",
      "  % self.max_iter, ConvergenceWarning)\n"
     ]
    },
    {
     "data": {
      "text/plain": [
       "MLPRegressor(activation='relu', alpha=0.0001, batch_size='auto', beta_1=0.9,\n",
       "       beta_2=0.999, early_stopping=False, epsilon=1e-08,\n",
       "       hidden_layer_sizes=(95, 85, 55, 100, 5), learning_rate='constant',\n",
       "       learning_rate_init=0.001, max_iter=200, momentum=0.9,\n",
       "       n_iter_no_change=10, nesterovs_momentum=True, power_t=0.5,\n",
       "       random_state=1, shuffle=True, solver='adam', tol=0.0001,\n",
       "       validation_fraction=0.1, verbose=False, warm_start=False)"
      ]
     },
     "execution_count": 54,
     "metadata": {},
     "output_type": "execute_result"
    }
   ],
   "source": [
    "# Apply model:\n",
    "model.fit(X_train, y_train)"
   ]
  },
  {
   "cell_type": "markdown",
   "metadata": {},
   "source": [
    "MLPRegressor :\n",
    "    \n",
    "    Multi-layer Perceptron i.e) Capability to learn non-linear models.\n",
    "    \n",
    "solver='adam':\n",
    "    \n",
    "    ‘adam’ refers to a stochastic gradient-based optimizer proposed by Kingma, Diederik, and Jimmy Ba\n",
    "    The default solver ‘adam’ works pretty well on relatively large datasets (with thousands of training samples or more) in terms of both training time and validation score. For small datasets, however, ‘lbfgs’ can converge faster and perform better.\n",
    "\n",
    "activation='relu'\n",
    "    \n",
    "    ‘relu’, the rectified linear unit function, returns f(x) = max(0, x)\n",
    "\n",
    "alpha=1e-5\n",
    "    \n",
    "    L2 penalty (regularization term) parameter.\n",
    "    \n",
    "hidden_layer_sizes :\n",
    "    \n",
    "    The Hidden layers apply given transformations to the input values inside the network.\n",
    "    In this, incoming arcs that go from other hidden nodes or from input nodes connected to each node. It connects with outgoing arcs to output nodes or to other hidden nodes. \n",
    "    In hidden layer, the actual processing is done via a system of weighted ‘connections’.There may be one or more hidden layers. \n",
    "    The values entering a hidden node multiplied by weights, a set of predetermined numbers stored in the program. The weighted inputs are then added to produce a single number.\n",
    "    "
   ]
  },
  {
   "cell_type": "markdown",
   "metadata": {},
   "source": [
    "# Prediction"
   ]
  },
  {
   "cell_type": "code",
   "execution_count": 55,
   "metadata": {},
   "outputs": [],
   "source": [
    "y_pred = model.predict(X_test)"
   ]
  },
  {
   "cell_type": "markdown",
   "metadata": {},
   "source": [
    "# Model Evaluation of training set"
   ]
  },
  {
   "cell_type": "code",
   "execution_count": 56,
   "metadata": {},
   "outputs": [
    {
     "name": "stdout",
     "output_type": "stream",
     "text": [
      "Explained_variance_score (r2 score) : 0.94\n"
     ]
    }
   ],
   "source": [
    "print ('Explained_variance_score (r2 score) :', round(explained_variance_score(y_test,y_pred),2))"
   ]
  },
  {
   "cell_type": "markdown",
   "metadata": {},
   "source": [
    "# Prediction on Blind set:"
   ]
  },
  {
   "cell_type": "code",
   "execution_count": 57,
   "metadata": {},
   "outputs": [],
   "source": [
    "y_pred_blind = model.predict(X_blind_scale)"
   ]
  },
  {
   "cell_type": "markdown",
   "metadata": {},
   "source": [
    "# Model Evaluation of Blind Set:"
   ]
  },
  {
   "cell_type": "code",
   "execution_count": 58,
   "metadata": {},
   "outputs": [
    {
     "name": "stdout",
     "output_type": "stream",
     "text": [
      "Explained_variance_score (r2 score) : 0.72\n"
     ]
    }
   ],
   "source": [
    "print ('Explained_variance_score (r2 score) :', round(explained_variance_score(y_blind,y_pred_blind),2))"
   ]
  },
  {
   "cell_type": "markdown",
   "metadata": {},
   "source": [
    "# Data Visualisation"
   ]
  },
  {
   "cell_type": "markdown",
   "metadata": {},
   "source": [
    "## Prepare the data for visualisation:"
   ]
  },
  {
   "cell_type": "code",
   "execution_count": 59,
   "metadata": {},
   "outputs": [],
   "source": [
    "df_blind.insert(6, 'Predicted_Gas_rate', y_pred_blind)"
   ]
  },
  {
   "cell_type": "code",
   "execution_count": 60,
   "metadata": {},
   "outputs": [
    {
     "data": {
      "text/html": [
       "<div>\n",
       "<style scoped>\n",
       "    .dataframe tbody tr th:only-of-type {\n",
       "        vertical-align: middle;\n",
       "    }\n",
       "\n",
       "    .dataframe tbody tr th {\n",
       "        vertical-align: top;\n",
       "    }\n",
       "\n",
       "    .dataframe thead th {\n",
       "        text-align: right;\n",
       "    }\n",
       "</style>\n",
       "<table border=\"1\" class=\"dataframe\">\n",
       "  <thead>\n",
       "    <tr style=\"text-align: right;\">\n",
       "      <th></th>\n",
       "      <th>Well</th>\n",
       "      <th>WaterRate</th>\n",
       "      <th>CasingHeadPressure</th>\n",
       "      <th>TubingHeadPressure</th>\n",
       "      <th>PumpSpeed</th>\n",
       "      <th>Torque</th>\n",
       "      <th>Predicted_Gas_rate</th>\n",
       "      <th>GasRate</th>\n",
       "    </tr>\n",
       "    <tr>\n",
       "      <th>Date</th>\n",
       "      <th></th>\n",
       "      <th></th>\n",
       "      <th></th>\n",
       "      <th></th>\n",
       "      <th></th>\n",
       "      <th></th>\n",
       "      <th></th>\n",
       "      <th></th>\n",
       "    </tr>\n",
       "  </thead>\n",
       "  <tbody>\n",
       "    <tr>\n",
       "      <th>2016-07-10</th>\n",
       "      <td>Well 14</td>\n",
       "      <td>505.59</td>\n",
       "      <td>64.60</td>\n",
       "      <td>65.66</td>\n",
       "      <td>220.0</td>\n",
       "      <td>342.23</td>\n",
       "      <td>1186.479608</td>\n",
       "      <td>1425.01</td>\n",
       "    </tr>\n",
       "    <tr>\n",
       "      <th>2016-07-11</th>\n",
       "      <td>Well 14</td>\n",
       "      <td>493.34</td>\n",
       "      <td>60.78</td>\n",
       "      <td>61.86</td>\n",
       "      <td>218.0</td>\n",
       "      <td>329.69</td>\n",
       "      <td>1236.746997</td>\n",
       "      <td>1432.29</td>\n",
       "    </tr>\n",
       "    <tr>\n",
       "      <th>2016-07-12</th>\n",
       "      <td>Well 14</td>\n",
       "      <td>493.34</td>\n",
       "      <td>60.78</td>\n",
       "      <td>61.86</td>\n",
       "      <td>214.0</td>\n",
       "      <td>327.48</td>\n",
       "      <td>1214.403066</td>\n",
       "      <td>1387.49</td>\n",
       "    </tr>\n",
       "    <tr>\n",
       "      <th>2016-07-13</th>\n",
       "      <td>Well 14</td>\n",
       "      <td>503.83</td>\n",
       "      <td>61.30</td>\n",
       "      <td>62.38</td>\n",
       "      <td>220.0</td>\n",
       "      <td>359.93</td>\n",
       "      <td>1186.867239</td>\n",
       "      <td>1361.19</td>\n",
       "    </tr>\n",
       "    <tr>\n",
       "      <th>2016-07-19</th>\n",
       "      <td>Well 14</td>\n",
       "      <td>495.14</td>\n",
       "      <td>63.64</td>\n",
       "      <td>64.63</td>\n",
       "      <td>219.0</td>\n",
       "      <td>345.18</td>\n",
       "      <td>1242.245125</td>\n",
       "      <td>1389.84</td>\n",
       "    </tr>\n",
       "  </tbody>\n",
       "</table>\n",
       "</div>"
      ],
      "text/plain": [
       "               Well  WaterRate  CasingHeadPressure  TubingHeadPressure  \\\n",
       "Date                                                                     \n",
       "2016-07-10  Well 14     505.59               64.60               65.66   \n",
       "2016-07-11  Well 14     493.34               60.78               61.86   \n",
       "2016-07-12  Well 14     493.34               60.78               61.86   \n",
       "2016-07-13  Well 14     503.83               61.30               62.38   \n",
       "2016-07-19  Well 14     495.14               63.64               64.63   \n",
       "\n",
       "            PumpSpeed  Torque  Predicted_Gas_rate  GasRate  \n",
       "Date                                                        \n",
       "2016-07-10      220.0  342.23         1186.479608  1425.01  \n",
       "2016-07-11      218.0  329.69         1236.746997  1432.29  \n",
       "2016-07-12      214.0  327.48         1214.403066  1387.49  \n",
       "2016-07-13      220.0  359.93         1186.867239  1361.19  \n",
       "2016-07-19      219.0  345.18         1242.245125  1389.84  "
      ]
     },
     "execution_count": 60,
     "metadata": {},
     "output_type": "execute_result"
    }
   ],
   "source": [
    "df_blind.head()"
   ]
  },
  {
   "cell_type": "code",
   "execution_count": 61,
   "metadata": {},
   "outputs": [],
   "source": [
    "df_blind = df_blind.sort_index()"
   ]
  },
  {
   "cell_type": "code",
   "execution_count": 62,
   "metadata": {},
   "outputs": [
    {
     "data": {
      "text/html": [
       "<div>\n",
       "<style scoped>\n",
       "    .dataframe tbody tr th:only-of-type {\n",
       "        vertical-align: middle;\n",
       "    }\n",
       "\n",
       "    .dataframe tbody tr th {\n",
       "        vertical-align: top;\n",
       "    }\n",
       "\n",
       "    .dataframe thead th {\n",
       "        text-align: right;\n",
       "    }\n",
       "</style>\n",
       "<table border=\"1\" class=\"dataframe\">\n",
       "  <thead>\n",
       "    <tr style=\"text-align: right;\">\n",
       "      <th></th>\n",
       "      <th>Well</th>\n",
       "      <th>WaterRate</th>\n",
       "      <th>CasingHeadPressure</th>\n",
       "      <th>TubingHeadPressure</th>\n",
       "      <th>PumpSpeed</th>\n",
       "      <th>Torque</th>\n",
       "      <th>Predicted_Gas_rate</th>\n",
       "      <th>GasRate</th>\n",
       "    </tr>\n",
       "    <tr>\n",
       "      <th>Date</th>\n",
       "      <th></th>\n",
       "      <th></th>\n",
       "      <th></th>\n",
       "      <th></th>\n",
       "      <th></th>\n",
       "      <th></th>\n",
       "      <th></th>\n",
       "      <th></th>\n",
       "    </tr>\n",
       "  </thead>\n",
       "  <tbody>\n",
       "    <tr>\n",
       "      <th>2014-12-08</th>\n",
       "      <td>Well 14</td>\n",
       "      <td>0.0</td>\n",
       "      <td>64.0</td>\n",
       "      <td>53.0</td>\n",
       "      <td>1.0</td>\n",
       "      <td>2.0</td>\n",
       "      <td>43.784697</td>\n",
       "      <td>14.0</td>\n",
       "    </tr>\n",
       "    <tr>\n",
       "      <th>2014-12-09</th>\n",
       "      <td>Well 14</td>\n",
       "      <td>592.0</td>\n",
       "      <td>65.0</td>\n",
       "      <td>66.0</td>\n",
       "      <td>77.0</td>\n",
       "      <td>216.0</td>\n",
       "      <td>55.014575</td>\n",
       "      <td>7.0</td>\n",
       "    </tr>\n",
       "    <tr>\n",
       "      <th>2014-12-10</th>\n",
       "      <td>Well 14</td>\n",
       "      <td>592.0</td>\n",
       "      <td>68.0</td>\n",
       "      <td>69.0</td>\n",
       "      <td>98.0</td>\n",
       "      <td>245.0</td>\n",
       "      <td>25.723199</td>\n",
       "      <td>20.0</td>\n",
       "    </tr>\n",
       "    <tr>\n",
       "      <th>2014-12-11</th>\n",
       "      <td>Well 14</td>\n",
       "      <td>592.0</td>\n",
       "      <td>70.0</td>\n",
       "      <td>70.0</td>\n",
       "      <td>98.0</td>\n",
       "      <td>238.0</td>\n",
       "      <td>18.934200</td>\n",
       "      <td>22.0</td>\n",
       "    </tr>\n",
       "    <tr>\n",
       "      <th>2014-12-12</th>\n",
       "      <td>Well 14</td>\n",
       "      <td>592.0</td>\n",
       "      <td>70.0</td>\n",
       "      <td>70.0</td>\n",
       "      <td>98.0</td>\n",
       "      <td>235.0</td>\n",
       "      <td>22.016792</td>\n",
       "      <td>17.0</td>\n",
       "    </tr>\n",
       "  </tbody>\n",
       "</table>\n",
       "</div>"
      ],
      "text/plain": [
       "               Well  WaterRate  CasingHeadPressure  TubingHeadPressure  \\\n",
       "Date                                                                     \n",
       "2014-12-08  Well 14        0.0                64.0                53.0   \n",
       "2014-12-09  Well 14      592.0                65.0                66.0   \n",
       "2014-12-10  Well 14      592.0                68.0                69.0   \n",
       "2014-12-11  Well 14      592.0                70.0                70.0   \n",
       "2014-12-12  Well 14      592.0                70.0                70.0   \n",
       "\n",
       "            PumpSpeed  Torque  Predicted_Gas_rate  GasRate  \n",
       "Date                                                        \n",
       "2014-12-08        1.0     2.0           43.784697     14.0  \n",
       "2014-12-09       77.0   216.0           55.014575      7.0  \n",
       "2014-12-10       98.0   245.0           25.723199     20.0  \n",
       "2014-12-11       98.0   238.0           18.934200     22.0  \n",
       "2014-12-12       98.0   235.0           22.016792     17.0  "
      ]
     },
     "execution_count": 62,
     "metadata": {},
     "output_type": "execute_result"
    }
   ],
   "source": [
    "df_blind.head()"
   ]
  },
  {
   "cell_type": "markdown",
   "metadata": {},
   "source": [
    "# Visualisation:"
   ]
  },
  {
   "cell_type": "markdown",
   "metadata": {},
   "source": [
    "## Create a function for plotting:"
   ]
  },
  {
   "cell_type": "code",
   "execution_count": 63,
   "metadata": {},
   "outputs": [],
   "source": [
    "def plot_data(df,title=\"\"):\n",
    "    fig = plt.figure(figsize = (15,5))\n",
    "    ax = fig.add_axes([0.1,0.1,1,1])\n",
    "    ax.plot(df.index,df.GasRate)\n",
    "    ax.plot(df.index,df.Predicted_Gas_rate)\n",
    "    ax.legend()\n",
    "    ax.set_xlabel('Time')\n",
    "    ax.set_ylabel('GasRate')\n",
    "    ax.set_title(title)"
   ]
  },
  {
   "cell_type": "markdown",
   "metadata": {},
   "source": [
    "## Plot:"
   ]
  },
  {
   "cell_type": "code",
   "execution_count": 64,
   "metadata": {},
   "outputs": [
    {
     "name": "stderr",
     "output_type": "stream",
     "text": [
      "C:\\Users\\H231148\\AppData\\Local\\Continuum\\anaconda3\\envs\\myenvSS\\lib\\site-packages\\pandas\\plotting\\_converter.py:129: FutureWarning: Using an implicitly registered datetime converter for a matplotlib plotting method. The converter was registered by pandas on import. Future versions of pandas will require you to explicitly register matplotlib converters.\n",
      "\n",
      "To register the converters:\n",
      "\t>>> from pandas.plotting import register_matplotlib_converters\n",
      "\t>>> register_matplotlib_converters()\n",
      "  warnings.warn(msg, FutureWarning)\n"
     ]
    },
    {
     "data": {
      "image/png": "[encoded data removed]",
      "text/plain": [
       "<Figure size 1080x360 with 1 Axes>"
      ]
     },
     "metadata": {
      "needs_background": "light"
     },
     "output_type": "display_data"
    }
   ],
   "source": [
    "plot_data(df_blind, 'GasRate VS Time (Well 14)' )"
   ]
  },
  {
   "cell_type": "code",
   "execution_count": null,
   "metadata": {},
   "outputs": [],
   "source": []
  },
  {
   "cell_type": "code",
   "execution_count": null,
   "metadata": {},
   "outputs": [],
   "source": []
  }
 ],
 "metadata": {
  "kernelspec": {
   "display_name": "Python 3",
   "language": "python",
   "name": "python3"
  },
  "language_info": {
   "codemirror_mode": {
    "name": "ipython",
    "version": 3
   },
   "file_extension": ".py",
   "mimetype": "text/x-python",
   "name": "python",
   "nbconvert_exporter": "python",
   "pygments_lexer": "ipython3",
   "version": "3.7.6"
  }
 },
 "nbformat": 4,
 "nbformat_minor": 2
}
