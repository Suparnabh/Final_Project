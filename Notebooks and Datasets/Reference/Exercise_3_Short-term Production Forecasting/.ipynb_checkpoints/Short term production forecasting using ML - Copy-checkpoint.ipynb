{
 "cells": [
  {
   "cell_type": "code",
   "execution_count": 2,
   "metadata": {},
   "outputs": [],
   "source": [
    "import pandas as pd\n",
    "import matplotlib.pyplot as plt\n",
    "import numpy as np\n",
    "import sklearn as sk\n",
    "from math import sqrt"
   ]
  },
  {
   "cell_type": "code",
   "execution_count": 3,
   "metadata": {},
   "outputs": [
    {
     "data": {
      "text/html": [
       "<div>\n",
       "<style scoped>\n",
       "    .dataframe tbody tr th:only-of-type {\n",
       "        vertical-align: middle;\n",
       "    }\n",
       "\n",
       "    .dataframe tbody tr th {\n",
       "        vertical-align: top;\n",
       "    }\n",
       "\n",
       "    .dataframe thead th {\n",
       "        text-align: right;\n",
       "    }\n",
       "</style>\n",
       "<table border=\"1\" class=\"dataframe\">\n",
       "  <thead>\n",
       "    <tr style=\"text-align: right;\">\n",
       "      <th></th>\n",
       "      <th>Date</th>\n",
       "      <th>Well</th>\n",
       "      <th>Well_Type</th>\n",
       "      <th>WaterRate</th>\n",
       "      <th>CasingHeadPressure</th>\n",
       "      <th>TubingHeadPressure</th>\n",
       "      <th>PumpSpeed</th>\n",
       "      <th>Torque</th>\n",
       "      <th>GasRate</th>\n",
       "    </tr>\n",
       "  </thead>\n",
       "  <tbody>\n",
       "    <tr>\n",
       "      <th>0</th>\n",
       "      <td>10-01-2015</td>\n",
       "      <td>Well 10</td>\n",
       "      <td>Pre-perf</td>\n",
       "      <td>192.00</td>\n",
       "      <td>51.00</td>\n",
       "      <td>38.00</td>\n",
       "      <td>63.00</td>\n",
       "      <td>235.00</td>\n",
       "      <td>2.00</td>\n",
       "    </tr>\n",
       "    <tr>\n",
       "      <th>1</th>\n",
       "      <td>11-01-2015</td>\n",
       "      <td>Well 10</td>\n",
       "      <td>Pre-perf</td>\n",
       "      <td>308.00</td>\n",
       "      <td>43.00</td>\n",
       "      <td>31.00</td>\n",
       "      <td>67.00</td>\n",
       "      <td>235.00</td>\n",
       "      <td>37.00</td>\n",
       "    </tr>\n",
       "    <tr>\n",
       "      <th>2</th>\n",
       "      <td>12-01-2015</td>\n",
       "      <td>Well 10</td>\n",
       "      <td>Pre-perf</td>\n",
       "      <td>308.00</td>\n",
       "      <td>41.00</td>\n",
       "      <td>31.00</td>\n",
       "      <td>67.00</td>\n",
       "      <td>239.00</td>\n",
       "      <td>59.00</td>\n",
       "    </tr>\n",
       "    <tr>\n",
       "      <th>3</th>\n",
       "      <td>13-01-2015</td>\n",
       "      <td>Well 10</td>\n",
       "      <td>Pre-perf</td>\n",
       "      <td>309.09</td>\n",
       "      <td>40.53</td>\n",
       "      <td>29.90</td>\n",
       "      <td>67.04</td>\n",
       "      <td>238.86</td>\n",
       "      <td>59.69</td>\n",
       "    </tr>\n",
       "    <tr>\n",
       "      <th>4</th>\n",
       "      <td>14-01-2015</td>\n",
       "      <td>Well 10</td>\n",
       "      <td>Pre-perf</td>\n",
       "      <td>308.18</td>\n",
       "      <td>40.46</td>\n",
       "      <td>29.84</td>\n",
       "      <td>67.06</td>\n",
       "      <td>236.16</td>\n",
       "      <td>56.57</td>\n",
       "    </tr>\n",
       "  </tbody>\n",
       "</table>\n",
       "</div>"
      ],
      "text/plain": [
       "         Date     Well Well_Type  WaterRate  CasingHeadPressure  \\\n",
       "0  10-01-2015  Well 10  Pre-perf     192.00               51.00   \n",
       "1  11-01-2015  Well 10  Pre-perf     308.00               43.00   \n",
       "2  12-01-2015  Well 10  Pre-perf     308.00               41.00   \n",
       "3  13-01-2015  Well 10  Pre-perf     309.09               40.53   \n",
       "4  14-01-2015  Well 10  Pre-perf     308.18               40.46   \n",
       "\n",
       "   TubingHeadPressure  PumpSpeed  Torque  GasRate  \n",
       "0               38.00      63.00  235.00     2.00  \n",
       "1               31.00      67.00  235.00    37.00  \n",
       "2               31.00      67.00  239.00    59.00  \n",
       "3               29.90      67.04  238.86    59.69  \n",
       "4               29.84      67.06  236.16    56.57  "
      ]
     },
     "execution_count": 3,
     "metadata": {},
     "output_type": "execute_result"
    }
   ],
   "source": [
    "pd.read_csv('Prod_Forecast.csv').head()"
   ]
  },
  {
   "cell_type": "code",
   "execution_count": 4,
   "metadata": {},
   "outputs": [],
   "source": [
    "data = pd.read_csv('Prod_Forecast.csv', parse_dates=['Date'], index_col='Date', dayfirst=True)"
   ]
  },
  {
   "cell_type": "code",
   "execution_count": 5,
   "metadata": {},
   "outputs": [
    {
     "data": {
      "text/html": [
       "<div>\n",
       "<style scoped>\n",
       "    .dataframe tbody tr th:only-of-type {\n",
       "        vertical-align: middle;\n",
       "    }\n",
       "\n",
       "    .dataframe tbody tr th {\n",
       "        vertical-align: top;\n",
       "    }\n",
       "\n",
       "    .dataframe thead th {\n",
       "        text-align: right;\n",
       "    }\n",
       "</style>\n",
       "<table border=\"1\" class=\"dataframe\">\n",
       "  <thead>\n",
       "    <tr style=\"text-align: right;\">\n",
       "      <th></th>\n",
       "      <th>Well</th>\n",
       "      <th>Well_Type</th>\n",
       "      <th>WaterRate</th>\n",
       "      <th>CasingHeadPressure</th>\n",
       "      <th>TubingHeadPressure</th>\n",
       "      <th>PumpSpeed</th>\n",
       "      <th>Torque</th>\n",
       "      <th>GasRate</th>\n",
       "    </tr>\n",
       "    <tr>\n",
       "      <th>Date</th>\n",
       "      <th></th>\n",
       "      <th></th>\n",
       "      <th></th>\n",
       "      <th></th>\n",
       "      <th></th>\n",
       "      <th></th>\n",
       "      <th></th>\n",
       "      <th></th>\n",
       "    </tr>\n",
       "  </thead>\n",
       "  <tbody>\n",
       "    <tr>\n",
       "      <th>2015-01-10</th>\n",
       "      <td>Well 10</td>\n",
       "      <td>Pre-perf</td>\n",
       "      <td>192.00</td>\n",
       "      <td>51.00</td>\n",
       "      <td>38.00</td>\n",
       "      <td>63.00</td>\n",
       "      <td>235.00</td>\n",
       "      <td>2.00</td>\n",
       "    </tr>\n",
       "    <tr>\n",
       "      <th>2015-01-11</th>\n",
       "      <td>Well 10</td>\n",
       "      <td>Pre-perf</td>\n",
       "      <td>308.00</td>\n",
       "      <td>43.00</td>\n",
       "      <td>31.00</td>\n",
       "      <td>67.00</td>\n",
       "      <td>235.00</td>\n",
       "      <td>37.00</td>\n",
       "    </tr>\n",
       "    <tr>\n",
       "      <th>2015-01-12</th>\n",
       "      <td>Well 10</td>\n",
       "      <td>Pre-perf</td>\n",
       "      <td>308.00</td>\n",
       "      <td>41.00</td>\n",
       "      <td>31.00</td>\n",
       "      <td>67.00</td>\n",
       "      <td>239.00</td>\n",
       "      <td>59.00</td>\n",
       "    </tr>\n",
       "    <tr>\n",
       "      <th>2015-01-13</th>\n",
       "      <td>Well 10</td>\n",
       "      <td>Pre-perf</td>\n",
       "      <td>309.09</td>\n",
       "      <td>40.53</td>\n",
       "      <td>29.90</td>\n",
       "      <td>67.04</td>\n",
       "      <td>238.86</td>\n",
       "      <td>59.69</td>\n",
       "    </tr>\n",
       "    <tr>\n",
       "      <th>2015-01-14</th>\n",
       "      <td>Well 10</td>\n",
       "      <td>Pre-perf</td>\n",
       "      <td>308.18</td>\n",
       "      <td>40.46</td>\n",
       "      <td>29.84</td>\n",
       "      <td>67.06</td>\n",
       "      <td>236.16</td>\n",
       "      <td>56.57</td>\n",
       "    </tr>\n",
       "    <tr>\n",
       "      <th>2015-01-15</th>\n",
       "      <td>Well 10</td>\n",
       "      <td>Pre-perf</td>\n",
       "      <td>308.18</td>\n",
       "      <td>40.46</td>\n",
       "      <td>29.84</td>\n",
       "      <td>67.06</td>\n",
       "      <td>236.16</td>\n",
       "      <td>56.57</td>\n",
       "    </tr>\n",
       "    <tr>\n",
       "      <th>2015-01-16</th>\n",
       "      <td>Well 10</td>\n",
       "      <td>Pre-perf</td>\n",
       "      <td>306.29</td>\n",
       "      <td>40.25</td>\n",
       "      <td>29.69</td>\n",
       "      <td>67.03</td>\n",
       "      <td>236.27</td>\n",
       "      <td>51.80</td>\n",
       "    </tr>\n",
       "    <tr>\n",
       "      <th>2015-01-17</th>\n",
       "      <td>Well 10</td>\n",
       "      <td>Pre-perf</td>\n",
       "      <td>306.36</td>\n",
       "      <td>40.24</td>\n",
       "      <td>29.67</td>\n",
       "      <td>67.02</td>\n",
       "      <td>235.41</td>\n",
       "      <td>50.32</td>\n",
       "    </tr>\n",
       "    <tr>\n",
       "      <th>2015-01-18</th>\n",
       "      <td>Well 10</td>\n",
       "      <td>Pre-perf</td>\n",
       "      <td>306.14</td>\n",
       "      <td>40.42</td>\n",
       "      <td>29.81</td>\n",
       "      <td>67.04</td>\n",
       "      <td>236.80</td>\n",
       "      <td>54.30</td>\n",
       "    </tr>\n",
       "    <tr>\n",
       "      <th>2015-01-19</th>\n",
       "      <td>Well 10</td>\n",
       "      <td>Pre-perf</td>\n",
       "      <td>306.00</td>\n",
       "      <td>41.00</td>\n",
       "      <td>30.00</td>\n",
       "      <td>67.00</td>\n",
       "      <td>242.00</td>\n",
       "      <td>63.00</td>\n",
       "    </tr>\n",
       "  </tbody>\n",
       "</table>\n",
       "</div>"
      ],
      "text/plain": [
       "               Well Well_Type  WaterRate  CasingHeadPressure  \\\n",
       "Date                                                           \n",
       "2015-01-10  Well 10  Pre-perf     192.00               51.00   \n",
       "2015-01-11  Well 10  Pre-perf     308.00               43.00   \n",
       "2015-01-12  Well 10  Pre-perf     308.00               41.00   \n",
       "2015-01-13  Well 10  Pre-perf     309.09               40.53   \n",
       "2015-01-14  Well 10  Pre-perf     308.18               40.46   \n",
       "2015-01-15  Well 10  Pre-perf     308.18               40.46   \n",
       "2015-01-16  Well 10  Pre-perf     306.29               40.25   \n",
       "2015-01-17  Well 10  Pre-perf     306.36               40.24   \n",
       "2015-01-18  Well 10  Pre-perf     306.14               40.42   \n",
       "2015-01-19  Well 10  Pre-perf     306.00               41.00   \n",
       "\n",
       "            TubingHeadPressure  PumpSpeed  Torque  GasRate  \n",
       "Date                                                        \n",
       "2015-01-10               38.00      63.00  235.00     2.00  \n",
       "2015-01-11               31.00      67.00  235.00    37.00  \n",
       "2015-01-12               31.00      67.00  239.00    59.00  \n",
       "2015-01-13               29.90      67.04  238.86    59.69  \n",
       "2015-01-14               29.84      67.06  236.16    56.57  \n",
       "2015-01-15               29.84      67.06  236.16    56.57  \n",
       "2015-01-16               29.69      67.03  236.27    51.80  \n",
       "2015-01-17               29.67      67.02  235.41    50.32  \n",
       "2015-01-18               29.81      67.04  236.80    54.30  \n",
       "2015-01-19               30.00      67.00  242.00    63.00  "
      ]
     },
     "execution_count": 5,
     "metadata": {},
     "output_type": "execute_result"
    }
   ],
   "source": [
    "data.head(10)"
   ]
  },
  {
   "cell_type": "code",
   "execution_count": 6,
   "metadata": {},
   "outputs": [
    {
     "data": {
      "text/html": [
       "<div>\n",
       "<style scoped>\n",
       "    .dataframe tbody tr th:only-of-type {\n",
       "        vertical-align: middle;\n",
       "    }\n",
       "\n",
       "    .dataframe tbody tr th {\n",
       "        vertical-align: top;\n",
       "    }\n",
       "\n",
       "    .dataframe thead th {\n",
       "        text-align: right;\n",
       "    }\n",
       "</style>\n",
       "<table border=\"1\" class=\"dataframe\">\n",
       "  <thead>\n",
       "    <tr style=\"text-align: right;\">\n",
       "      <th></th>\n",
       "      <th>Well</th>\n",
       "      <th>Well_Type</th>\n",
       "      <th>WaterRate</th>\n",
       "      <th>CasingHeadPressure</th>\n",
       "      <th>TubingHeadPressure</th>\n",
       "      <th>PumpSpeed</th>\n",
       "      <th>Torque</th>\n",
       "      <th>GasRate</th>\n",
       "    </tr>\n",
       "    <tr>\n",
       "      <th>Date</th>\n",
       "      <th></th>\n",
       "      <th></th>\n",
       "      <th></th>\n",
       "      <th></th>\n",
       "      <th></th>\n",
       "      <th></th>\n",
       "      <th></th>\n",
       "      <th></th>\n",
       "    </tr>\n",
       "  </thead>\n",
       "  <tbody>\n",
       "    <tr>\n",
       "      <th>2018-07-12</th>\n",
       "      <td>Well 1</td>\n",
       "      <td>Pre-perf</td>\n",
       "      <td>26.31</td>\n",
       "      <td>47.86</td>\n",
       "      <td>47.85</td>\n",
       "      <td>109.0</td>\n",
       "      <td>118.01</td>\n",
       "      <td>143.45</td>\n",
       "    </tr>\n",
       "    <tr>\n",
       "      <th>2016-06-10</th>\n",
       "      <td>Well 1</td>\n",
       "      <td>Pre-perf</td>\n",
       "      <td>31.61</td>\n",
       "      <td>35.36</td>\n",
       "      <td>35.63</td>\n",
       "      <td>136.0</td>\n",
       "      <td>116.53</td>\n",
       "      <td>255.07</td>\n",
       "    </tr>\n",
       "    <tr>\n",
       "      <th>2016-06-11</th>\n",
       "      <td>Well 1</td>\n",
       "      <td>Pre-perf</td>\n",
       "      <td>32.60</td>\n",
       "      <td>35.41</td>\n",
       "      <td>35.69</td>\n",
       "      <td>136.0</td>\n",
       "      <td>117.27</td>\n",
       "      <td>255.80</td>\n",
       "    </tr>\n",
       "    <tr>\n",
       "      <th>2016-06-12</th>\n",
       "      <td>Well 1</td>\n",
       "      <td>Pre-perf</td>\n",
       "      <td>31.59</td>\n",
       "      <td>35.21</td>\n",
       "      <td>35.49</td>\n",
       "      <td>136.0</td>\n",
       "      <td>118.75</td>\n",
       "      <td>253.27</td>\n",
       "    </tr>\n",
       "    <tr>\n",
       "      <th>2016-06-13</th>\n",
       "      <td>Well 1</td>\n",
       "      <td>Pre-perf</td>\n",
       "      <td>31.79</td>\n",
       "      <td>35.27</td>\n",
       "      <td>35.55</td>\n",
       "      <td>136.0</td>\n",
       "      <td>118.01</td>\n",
       "      <td>251.73</td>\n",
       "    </tr>\n",
       "    <tr>\n",
       "      <th>2016-06-14</th>\n",
       "      <td>Well 1</td>\n",
       "      <td>Pre-perf</td>\n",
       "      <td>31.78</td>\n",
       "      <td>35.00</td>\n",
       "      <td>35.28</td>\n",
       "      <td>136.0</td>\n",
       "      <td>117.27</td>\n",
       "      <td>251.15</td>\n",
       "    </tr>\n",
       "    <tr>\n",
       "      <th>2016-06-15</th>\n",
       "      <td>Well 1</td>\n",
       "      <td>Pre-perf</td>\n",
       "      <td>31.70</td>\n",
       "      <td>35.21</td>\n",
       "      <td>35.48</td>\n",
       "      <td>136.0</td>\n",
       "      <td>118.01</td>\n",
       "      <td>250.82</td>\n",
       "    </tr>\n",
       "    <tr>\n",
       "      <th>2016-06-16</th>\n",
       "      <td>Well 1</td>\n",
       "      <td>Pre-perf</td>\n",
       "      <td>31.73</td>\n",
       "      <td>34.90</td>\n",
       "      <td>35.18</td>\n",
       "      <td>136.0</td>\n",
       "      <td>117.27</td>\n",
       "      <td>250.81</td>\n",
       "    </tr>\n",
       "    <tr>\n",
       "      <th>2016-06-17</th>\n",
       "      <td>Well 1</td>\n",
       "      <td>Pre-perf</td>\n",
       "      <td>31.59</td>\n",
       "      <td>34.89</td>\n",
       "      <td>35.17</td>\n",
       "      <td>135.0</td>\n",
       "      <td>118.01</td>\n",
       "      <td>249.90</td>\n",
       "    </tr>\n",
       "    <tr>\n",
       "      <th>2016-06-18</th>\n",
       "      <td>Well 1</td>\n",
       "      <td>Pre-perf</td>\n",
       "      <td>31.89</td>\n",
       "      <td>35.02</td>\n",
       "      <td>35.30</td>\n",
       "      <td>136.0</td>\n",
       "      <td>118.01</td>\n",
       "      <td>249.97</td>\n",
       "    </tr>\n",
       "  </tbody>\n",
       "</table>\n",
       "</div>"
      ],
      "text/plain": [
       "              Well Well_Type  WaterRate  CasingHeadPressure  \\\n",
       "Date                                                          \n",
       "2018-07-12  Well 1  Pre-perf      26.31               47.86   \n",
       "2016-06-10  Well 1  Pre-perf      31.61               35.36   \n",
       "2016-06-11  Well 1  Pre-perf      32.60               35.41   \n",
       "2016-06-12  Well 1  Pre-perf      31.59               35.21   \n",
       "2016-06-13  Well 1  Pre-perf      31.79               35.27   \n",
       "2016-06-14  Well 1  Pre-perf      31.78               35.00   \n",
       "2016-06-15  Well 1  Pre-perf      31.70               35.21   \n",
       "2016-06-16  Well 1  Pre-perf      31.73               34.90   \n",
       "2016-06-17  Well 1  Pre-perf      31.59               34.89   \n",
       "2016-06-18  Well 1  Pre-perf      31.89               35.02   \n",
       "\n",
       "            TubingHeadPressure  PumpSpeed  Torque  GasRate  \n",
       "Date                                                        \n",
       "2018-07-12               47.85      109.0  118.01   143.45  \n",
       "2016-06-10               35.63      136.0  116.53   255.07  \n",
       "2016-06-11               35.69      136.0  117.27   255.80  \n",
       "2016-06-12               35.49      136.0  118.75   253.27  \n",
       "2016-06-13               35.55      136.0  118.01   251.73  \n",
       "2016-06-14               35.28      136.0  117.27   251.15  \n",
       "2016-06-15               35.48      136.0  118.01   250.82  \n",
       "2016-06-16               35.18      136.0  117.27   250.81  \n",
       "2016-06-17               35.17      135.0  118.01   249.90  \n",
       "2016-06-18               35.30      136.0  118.01   249.97  "
      ]
     },
     "execution_count": 6,
     "metadata": {},
     "output_type": "execute_result"
    }
   ],
   "source": [
    "data = data.sort_values('Well')\n",
    "data.head(10)"
   ]
  },
  {
   "cell_type": "code",
   "execution_count": 7,
   "metadata": {},
   "outputs": [],
   "source": [
    "data.drop('Well_Type', axis = 1, inplace=True)"
   ]
  },
  {
   "cell_type": "code",
   "execution_count": 8,
   "metadata": {},
   "outputs": [
    {
     "data": {
      "text/html": [
       "<div>\n",
       "<style scoped>\n",
       "    .dataframe tbody tr th:only-of-type {\n",
       "        vertical-align: middle;\n",
       "    }\n",
       "\n",
       "    .dataframe tbody tr th {\n",
       "        vertical-align: top;\n",
       "    }\n",
       "\n",
       "    .dataframe thead th {\n",
       "        text-align: right;\n",
       "    }\n",
       "</style>\n",
       "<table border=\"1\" class=\"dataframe\">\n",
       "  <thead>\n",
       "    <tr style=\"text-align: right;\">\n",
       "      <th></th>\n",
       "      <th>Well</th>\n",
       "      <th>WaterRate</th>\n",
       "      <th>CasingHeadPressure</th>\n",
       "      <th>TubingHeadPressure</th>\n",
       "      <th>PumpSpeed</th>\n",
       "      <th>Torque</th>\n",
       "      <th>GasRate</th>\n",
       "    </tr>\n",
       "    <tr>\n",
       "      <th>Date</th>\n",
       "      <th></th>\n",
       "      <th></th>\n",
       "      <th></th>\n",
       "      <th></th>\n",
       "      <th></th>\n",
       "      <th></th>\n",
       "      <th></th>\n",
       "    </tr>\n",
       "  </thead>\n",
       "  <tbody>\n",
       "    <tr>\n",
       "      <th>2018-07-12</th>\n",
       "      <td>Well 1</td>\n",
       "      <td>26.31</td>\n",
       "      <td>47.86</td>\n",
       "      <td>47.85</td>\n",
       "      <td>109.0</td>\n",
       "      <td>118.01</td>\n",
       "      <td>143.45</td>\n",
       "    </tr>\n",
       "    <tr>\n",
       "      <th>2016-06-10</th>\n",
       "      <td>Well 1</td>\n",
       "      <td>31.61</td>\n",
       "      <td>35.36</td>\n",
       "      <td>35.63</td>\n",
       "      <td>136.0</td>\n",
       "      <td>116.53</td>\n",
       "      <td>255.07</td>\n",
       "    </tr>\n",
       "    <tr>\n",
       "      <th>2016-06-11</th>\n",
       "      <td>Well 1</td>\n",
       "      <td>32.60</td>\n",
       "      <td>35.41</td>\n",
       "      <td>35.69</td>\n",
       "      <td>136.0</td>\n",
       "      <td>117.27</td>\n",
       "      <td>255.80</td>\n",
       "    </tr>\n",
       "    <tr>\n",
       "      <th>2016-06-12</th>\n",
       "      <td>Well 1</td>\n",
       "      <td>31.59</td>\n",
       "      <td>35.21</td>\n",
       "      <td>35.49</td>\n",
       "      <td>136.0</td>\n",
       "      <td>118.75</td>\n",
       "      <td>253.27</td>\n",
       "    </tr>\n",
       "    <tr>\n",
       "      <th>2016-06-13</th>\n",
       "      <td>Well 1</td>\n",
       "      <td>31.79</td>\n",
       "      <td>35.27</td>\n",
       "      <td>35.55</td>\n",
       "      <td>136.0</td>\n",
       "      <td>118.01</td>\n",
       "      <td>251.73</td>\n",
       "    </tr>\n",
       "  </tbody>\n",
       "</table>\n",
       "</div>"
      ],
      "text/plain": [
       "              Well  WaterRate  CasingHeadPressure  TubingHeadPressure  \\\n",
       "Date                                                                    \n",
       "2018-07-12  Well 1      26.31               47.86               47.85   \n",
       "2016-06-10  Well 1      31.61               35.36               35.63   \n",
       "2016-06-11  Well 1      32.60               35.41               35.69   \n",
       "2016-06-12  Well 1      31.59               35.21               35.49   \n",
       "2016-06-13  Well 1      31.79               35.27               35.55   \n",
       "\n",
       "            PumpSpeed  Torque  GasRate  \n",
       "Date                                    \n",
       "2018-07-12      109.0  118.01   143.45  \n",
       "2016-06-10      136.0  116.53   255.07  \n",
       "2016-06-11      136.0  117.27   255.80  \n",
       "2016-06-12      136.0  118.75   253.27  \n",
       "2016-06-13      136.0  118.01   251.73  "
      ]
     },
     "execution_count": 8,
     "metadata": {},
     "output_type": "execute_result"
    }
   ],
   "source": [
    "data.head()"
   ]
  },
  {
   "cell_type": "code",
   "execution_count": 9,
   "metadata": {},
   "outputs": [
    {
     "name": "stdout",
     "output_type": "stream",
     "text": [
      "<class 'pandas.core.frame.DataFrame'>\n",
      "DatetimeIndex: 10014 entries, 2018-07-12 to 2018-08-04\n",
      "Data columns (total 7 columns):\n",
      "Well                  10014 non-null object\n",
      "WaterRate             10014 non-null float64\n",
      "CasingHeadPressure    10014 non-null float64\n",
      "TubingHeadPressure    10014 non-null float64\n",
      "PumpSpeed             10014 non-null float64\n",
      "Torque                10014 non-null float64\n",
      "GasRate               10014 non-null float64\n",
      "dtypes: float64(6), object(1)\n",
      "memory usage: 625.9+ KB\n"
     ]
    }
   ],
   "source": [
    "data.info()"
   ]
  },
  {
   "cell_type": "code",
   "execution_count": 10,
   "metadata": {},
   "outputs": [
    {
     "data": {
      "text/html": [
       "<div>\n",
       "<style scoped>\n",
       "    .dataframe tbody tr th:only-of-type {\n",
       "        vertical-align: middle;\n",
       "    }\n",
       "\n",
       "    .dataframe tbody tr th {\n",
       "        vertical-align: top;\n",
       "    }\n",
       "\n",
       "    .dataframe thead th {\n",
       "        text-align: right;\n",
       "    }\n",
       "</style>\n",
       "<table border=\"1\" class=\"dataframe\">\n",
       "  <thead>\n",
       "    <tr style=\"text-align: right;\">\n",
       "      <th></th>\n",
       "      <th>WaterRate</th>\n",
       "      <th>CasingHeadPressure</th>\n",
       "      <th>TubingHeadPressure</th>\n",
       "      <th>PumpSpeed</th>\n",
       "      <th>Torque</th>\n",
       "      <th>GasRate</th>\n",
       "    </tr>\n",
       "  </thead>\n",
       "  <tbody>\n",
       "    <tr>\n",
       "      <th>count</th>\n",
       "      <td>10014.000000</td>\n",
       "      <td>10014.000000</td>\n",
       "      <td>10014.000000</td>\n",
       "      <td>10014.000000</td>\n",
       "      <td>10014.000000</td>\n",
       "      <td>10014.000000</td>\n",
       "    </tr>\n",
       "    <tr>\n",
       "      <th>mean</th>\n",
       "      <td>255.401030</td>\n",
       "      <td>58.345532</td>\n",
       "      <td>57.180661</td>\n",
       "      <td>143.820432</td>\n",
       "      <td>246.935557</td>\n",
       "      <td>446.143849</td>\n",
       "    </tr>\n",
       "    <tr>\n",
       "      <th>std</th>\n",
       "      <td>186.126892</td>\n",
       "      <td>35.609559</td>\n",
       "      <td>20.591074</td>\n",
       "      <td>62.513463</td>\n",
       "      <td>115.562883</td>\n",
       "      <td>400.881072</td>\n",
       "    </tr>\n",
       "    <tr>\n",
       "      <th>min</th>\n",
       "      <td>0.000000</td>\n",
       "      <td>23.000000</td>\n",
       "      <td>0.040000</td>\n",
       "      <td>0.000000</td>\n",
       "      <td>0.010000</td>\n",
       "      <td>0.000000</td>\n",
       "    </tr>\n",
       "    <tr>\n",
       "      <th>25%</th>\n",
       "      <td>118.280000</td>\n",
       "      <td>42.060000</td>\n",
       "      <td>42.500000</td>\n",
       "      <td>100.000000</td>\n",
       "      <td>154.335000</td>\n",
       "      <td>171.482500</td>\n",
       "    </tr>\n",
       "    <tr>\n",
       "      <th>50%</th>\n",
       "      <td>221.490000</td>\n",
       "      <td>51.050000</td>\n",
       "      <td>53.850000</td>\n",
       "      <td>135.000000</td>\n",
       "      <td>242.660000</td>\n",
       "      <td>337.430000</td>\n",
       "    </tr>\n",
       "    <tr>\n",
       "      <th>75%</th>\n",
       "      <td>366.010000</td>\n",
       "      <td>61.350000</td>\n",
       "      <td>70.477500</td>\n",
       "      <td>188.000000</td>\n",
       "      <td>314.000000</td>\n",
       "      <td>548.610000</td>\n",
       "    </tr>\n",
       "    <tr>\n",
       "      <th>max</th>\n",
       "      <td>1184.130000</td>\n",
       "      <td>397.000000</td>\n",
       "      <td>387.000000</td>\n",
       "      <td>343.000000</td>\n",
       "      <td>753.000000</td>\n",
       "      <td>1867.940000</td>\n",
       "    </tr>\n",
       "  </tbody>\n",
       "</table>\n",
       "</div>"
      ],
      "text/plain": [
       "          WaterRate  CasingHeadPressure  TubingHeadPressure     PumpSpeed  \\\n",
       "count  10014.000000        10014.000000        10014.000000  10014.000000   \n",
       "mean     255.401030           58.345532           57.180661    143.820432   \n",
       "std      186.126892           35.609559           20.591074     62.513463   \n",
       "min        0.000000           23.000000            0.040000      0.000000   \n",
       "25%      118.280000           42.060000           42.500000    100.000000   \n",
       "50%      221.490000           51.050000           53.850000    135.000000   \n",
       "75%      366.010000           61.350000           70.477500    188.000000   \n",
       "max     1184.130000          397.000000          387.000000    343.000000   \n",
       "\n",
       "             Torque       GasRate  \n",
       "count  10014.000000  10014.000000  \n",
       "mean     246.935557    446.143849  \n",
       "std      115.562883    400.881072  \n",
       "min        0.010000      0.000000  \n",
       "25%      154.335000    171.482500  \n",
       "50%      242.660000    337.430000  \n",
       "75%      314.000000    548.610000  \n",
       "max      753.000000   1867.940000  "
      ]
     },
     "execution_count": 10,
     "metadata": {},
     "output_type": "execute_result"
    }
   ],
   "source": [
    "data.describe()"
   ]
  },
  {
   "cell_type": "code",
   "execution_count": 11,
   "metadata": {},
   "outputs": [
    {
     "data": {
      "text/plain": [
       "Well 1     1359\n",
       "Well 7     1230\n",
       "Well 15    1220\n",
       "Well 9     1199\n",
       "Well 10    1078\n",
       "Well 8     1052\n",
       "Well 14     605\n",
       "Well 12     384\n",
       "Well 13     372\n",
       "Well 6      358\n",
       "Well 3      277\n",
       "Well 2      277\n",
       "Well 4      274\n",
       "Well 5      168\n",
       "Well 11     161\n",
       "Name: Well, dtype: int64"
      ]
     },
     "execution_count": 11,
     "metadata": {},
     "output_type": "execute_result"
    }
   ],
   "source": [
    "wellcount = data.Well.value_counts()\n",
    "wellcount"
   ]
  },
  {
   "cell_type": "code",
   "execution_count": 13,
   "metadata": {},
   "outputs": [],
   "source": [
    "df_train = data[data['Well'] != 'Well 12']"
   ]
  },
  {
   "cell_type": "code",
   "execution_count": 14,
   "metadata": {},
   "outputs": [
    {
     "name": "stdout",
     "output_type": "stream",
     "text": [
      "['Well 1' 'Well 10' 'Well 11' 'Well 13' 'Well 14' 'Well 15' 'Well 2'\n",
      " 'Well 3' 'Well 4' 'Well 5' 'Well 6' 'Well 7' 'Well 8' 'Well 9']\n"
     ]
    }
   ],
   "source": [
    "print(df_train.Well.unique())"
   ]
  },
  {
   "cell_type": "code",
   "execution_count": 15,
   "metadata": {},
   "outputs": [
    {
     "data": {
      "text/plain": [
       "(9630, 7)"
      ]
     },
     "execution_count": 15,
     "metadata": {},
     "output_type": "execute_result"
    }
   ],
   "source": [
    "df_train.shape"
   ]
  },
  {
   "cell_type": "code",
   "execution_count": 16,
   "metadata": {},
   "outputs": [],
   "source": [
    "df_blind = data[data['Well'] == 'Well 12']"
   ]
  },
  {
   "cell_type": "code",
   "execution_count": 17,
   "metadata": {},
   "outputs": [
    {
     "data": {
      "text/html": [
       "<div>\n",
       "<style scoped>\n",
       "    .dataframe tbody tr th:only-of-type {\n",
       "        vertical-align: middle;\n",
       "    }\n",
       "\n",
       "    .dataframe tbody tr th {\n",
       "        vertical-align: top;\n",
       "    }\n",
       "\n",
       "    .dataframe thead th {\n",
       "        text-align: right;\n",
       "    }\n",
       "</style>\n",
       "<table border=\"1\" class=\"dataframe\">\n",
       "  <thead>\n",
       "    <tr style=\"text-align: right;\">\n",
       "      <th></th>\n",
       "      <th>Well</th>\n",
       "      <th>WaterRate</th>\n",
       "      <th>CasingHeadPressure</th>\n",
       "      <th>TubingHeadPressure</th>\n",
       "      <th>PumpSpeed</th>\n",
       "      <th>Torque</th>\n",
       "      <th>GasRate</th>\n",
       "    </tr>\n",
       "    <tr>\n",
       "      <th>Date</th>\n",
       "      <th></th>\n",
       "      <th></th>\n",
       "      <th></th>\n",
       "      <th></th>\n",
       "      <th></th>\n",
       "      <th></th>\n",
       "      <th></th>\n",
       "    </tr>\n",
       "  </thead>\n",
       "  <tbody>\n",
       "    <tr>\n",
       "      <th>2018-03-01</th>\n",
       "      <td>Well 12</td>\n",
       "      <td>215.05</td>\n",
       "      <td>48.30</td>\n",
       "      <td>91.23</td>\n",
       "      <td>66.0</td>\n",
       "      <td>311.99</td>\n",
       "      <td>63.35</td>\n",
       "    </tr>\n",
       "    <tr>\n",
       "      <th>2018-03-02</th>\n",
       "      <td>Well 12</td>\n",
       "      <td>220.70</td>\n",
       "      <td>40.47</td>\n",
       "      <td>91.23</td>\n",
       "      <td>66.0</td>\n",
       "      <td>310.51</td>\n",
       "      <td>67.07</td>\n",
       "    </tr>\n",
       "    <tr>\n",
       "      <th>2018-03-03</th>\n",
       "      <td>Well 12</td>\n",
       "      <td>221.14</td>\n",
       "      <td>40.47</td>\n",
       "      <td>93.55</td>\n",
       "      <td>66.0</td>\n",
       "      <td>311.99</td>\n",
       "      <td>64.94</td>\n",
       "    </tr>\n",
       "    <tr>\n",
       "      <th>2018-03-04</th>\n",
       "      <td>Well 12</td>\n",
       "      <td>220.66</td>\n",
       "      <td>40.18</td>\n",
       "      <td>92.24</td>\n",
       "      <td>69.0</td>\n",
       "      <td>314.94</td>\n",
       "      <td>63.14</td>\n",
       "    </tr>\n",
       "    <tr>\n",
       "      <th>2018-03-06</th>\n",
       "      <td>Well 12</td>\n",
       "      <td>224.99</td>\n",
       "      <td>40.32</td>\n",
       "      <td>93.11</td>\n",
       "      <td>69.0</td>\n",
       "      <td>312.73</td>\n",
       "      <td>65.03</td>\n",
       "    </tr>\n",
       "  </tbody>\n",
       "</table>\n",
       "</div>"
      ],
      "text/plain": [
       "               Well  WaterRate  CasingHeadPressure  TubingHeadPressure  \\\n",
       "Date                                                                     \n",
       "2018-03-01  Well 12     215.05               48.30               91.23   \n",
       "2018-03-02  Well 12     220.70               40.47               91.23   \n",
       "2018-03-03  Well 12     221.14               40.47               93.55   \n",
       "2018-03-04  Well 12     220.66               40.18               92.24   \n",
       "2018-03-06  Well 12     224.99               40.32               93.11   \n",
       "\n",
       "            PumpSpeed  Torque  GasRate  \n",
       "Date                                    \n",
       "2018-03-01       66.0  311.99    63.35  \n",
       "2018-03-02       66.0  310.51    67.07  \n",
       "2018-03-03       66.0  311.99    64.94  \n",
       "2018-03-04       69.0  314.94    63.14  \n",
       "2018-03-06       69.0  312.73    65.03  "
      ]
     },
     "execution_count": 17,
     "metadata": {},
     "output_type": "execute_result"
    }
   ],
   "source": [
    "df_blind.head()"
   ]
  },
  {
   "cell_type": "code",
   "execution_count": 18,
   "metadata": {},
   "outputs": [
    {
     "data": {
      "text/plain": [
       "(384, 7)"
      ]
     },
     "execution_count": 18,
     "metadata": {},
     "output_type": "execute_result"
    }
   ],
   "source": [
    "df_blind.shape"
   ]
  },
  {
   "cell_type": "code",
   "execution_count": 19,
   "metadata": {},
   "outputs": [
    {
     "name": "stderr",
     "output_type": "stream",
     "text": [
      "C:\\Users\\H231148\\AppData\\Local\\Continuum\\anaconda3\\envs\\myenvSS\\lib\\site-packages\\ipykernel_launcher.py:1: FutureWarning: Method .as_matrix will be removed in a future version. Use .values instead.\n",
      "  \"\"\"Entry point for launching an IPython kernel.\n",
      "C:\\Users\\H231148\\AppData\\Local\\Continuum\\anaconda3\\envs\\myenvSS\\lib\\site-packages\\ipykernel_launcher.py:2: FutureWarning: Method .as_matrix will be removed in a future version. Use .values instead.\n",
      "  \n"
     ]
    }
   ],
   "source": [
    "df_train_matrix  = df_train.as_matrix() # Train\n",
    "df_blind_matrix  = df_blind.as_matrix() # Blind"
   ]
  },
  {
   "cell_type": "code",
   "execution_count": 20,
   "metadata": {},
   "outputs": [],
   "source": [
    "X  = df_train_matrix[:,1:6] # Input for Train data\n",
    "y  = df_train_matrix[:,-1]   # output for Train data"
   ]
  },
  {
   "cell_type": "code",
   "execution_count": 22,
   "metadata": {},
   "outputs": [
    {
     "data": {
      "text/plain": [
       "array([[26.31, 47.86, 47.85, 109.0, 118.01],\n",
       "       [31.61, 35.36, 35.63, 136.0, 116.53],\n",
       "       [32.6, 35.41, 35.69, 136.0, 117.27],\n",
       "       ...,\n",
       "       [236.33, 65.27, 65.85, 111.0, 224.96],\n",
       "       [236.55, 65.27, 65.85, 110.0, 224.22],\n",
       "       [20.0, 50.0, 3.0, 136.0, 246.0]], dtype=object)"
      ]
     },
     "execution_count": 22,
     "metadata": {},
     "output_type": "execute_result"
    }
   ],
   "source": [
    "X"
   ]
  },
  {
   "cell_type": "code",
   "execution_count": 202,
   "metadata": {},
   "outputs": [
    {
     "data": {
      "text/html": [
       "<div>\n",
       "<style scoped>\n",
       "    .dataframe tbody tr th:only-of-type {\n",
       "        vertical-align: middle;\n",
       "    }\n",
       "\n",
       "    .dataframe tbody tr th {\n",
       "        vertical-align: top;\n",
       "    }\n",
       "\n",
       "    .dataframe thead th {\n",
       "        text-align: right;\n",
       "    }\n",
       "</style>\n",
       "<table border=\"1\" class=\"dataframe\">\n",
       "  <thead>\n",
       "    <tr style=\"text-align: right;\">\n",
       "      <th></th>\n",
       "      <th>GasRate</th>\n",
       "    </tr>\n",
       "    <tr>\n",
       "      <th>Date</th>\n",
       "      <th></th>\n",
       "    </tr>\n",
       "  </thead>\n",
       "  <tbody>\n",
       "    <tr>\n",
       "      <th>2018-07-12</th>\n",
       "      <td>143.45</td>\n",
       "    </tr>\n",
       "    <tr>\n",
       "      <th>2016-06-10</th>\n",
       "      <td>255.07</td>\n",
       "    </tr>\n",
       "    <tr>\n",
       "      <th>2016-06-11</th>\n",
       "      <td>255.80</td>\n",
       "    </tr>\n",
       "    <tr>\n",
       "      <th>2016-06-12</th>\n",
       "      <td>253.27</td>\n",
       "    </tr>\n",
       "    <tr>\n",
       "      <th>2016-06-13</th>\n",
       "      <td>251.73</td>\n",
       "    </tr>\n",
       "  </tbody>\n",
       "</table>\n",
       "</div>"
      ],
      "text/plain": [
       "            GasRate\n",
       "Date               \n",
       "2018-07-12   143.45\n",
       "2016-06-10   255.07\n",
       "2016-06-11   255.80\n",
       "2016-06-12   253.27\n",
       "2016-06-13   251.73"
      ]
     },
     "execution_count": 202,
     "metadata": {},
     "output_type": "execute_result"
    }
   ],
   "source": [
    "y.head()"
   ]
  },
  {
   "cell_type": "code",
   "execution_count": 203,
   "metadata": {},
   "outputs": [
    {
     "name": "stderr",
     "output_type": "stream",
     "text": [
      "C:\\Users\\H231148\\AppData\\Local\\Continuum\\anaconda3\\envs\\myenvSS\\lib\\site-packages\\ipykernel_launcher.py:1: FutureWarning: Method .as_matrix will be removed in a future version. Use .values instead.\n",
      "  \"\"\"Entry point for launching an IPython kernel.\n"
     ]
    }
   ],
   "source": [
    "X  = X.as_matrix() "
   ]
  },
  {
   "cell_type": "code",
   "execution_count": 204,
   "metadata": {},
   "outputs": [
    {
     "data": {
      "text/plain": [
       "array([[ 26.31,  47.86,  47.85, 109.  , 118.01],\n",
       "       [ 31.61,  35.36,  35.63, 136.  , 116.53],\n",
       "       [ 32.6 ,  35.41,  35.69, 136.  , 117.27],\n",
       "       ...,\n",
       "       [236.33,  65.27,  65.85, 111.  , 224.96],\n",
       "       [236.55,  65.27,  65.85, 110.  , 224.22],\n",
       "       [ 20.  ,  50.  ,   3.  , 136.  , 246.  ]])"
      ]
     },
     "execution_count": 204,
     "metadata": {},
     "output_type": "execute_result"
    }
   ],
   "source": [
    "X"
   ]
  },
  {
   "cell_type": "code",
   "execution_count": 205,
   "metadata": {},
   "outputs": [
    {
     "data": {
      "text/plain": [
       "(9740, 5)"
      ]
     },
     "execution_count": 205,
     "metadata": {},
     "output_type": "execute_result"
    }
   ],
   "source": [
    "X.shape"
   ]
  },
  {
   "cell_type": "code",
   "execution_count": 206,
   "metadata": {},
   "outputs": [
    {
     "name": "stderr",
     "output_type": "stream",
     "text": [
      "C:\\Users\\H231148\\AppData\\Local\\Continuum\\anaconda3\\envs\\myenvSS\\lib\\site-packages\\ipykernel_launcher.py:1: FutureWarning: Method .as_matrix will be removed in a future version. Use .values instead.\n",
      "  \"\"\"Entry point for launching an IPython kernel.\n"
     ]
    }
   ],
   "source": [
    "y = y.as_matrix() # Train"
   ]
  },
  {
   "cell_type": "code",
   "execution_count": 207,
   "metadata": {},
   "outputs": [
    {
     "data": {
      "text/plain": [
       "array([[143.45],\n",
       "       [255.07],\n",
       "       [255.8 ],\n",
       "       ...,\n",
       "       [110.43],\n",
       "       [115.99],\n",
       "       [135.  ]])"
      ]
     },
     "execution_count": 207,
     "metadata": {},
     "output_type": "execute_result"
    }
   ],
   "source": [
    "y"
   ]
  },
  {
   "cell_type": "code",
   "execution_count": 208,
   "metadata": {},
   "outputs": [
    {
     "data": {
      "text/plain": [
       "(9740, 1)"
      ]
     },
     "execution_count": 208,
     "metadata": {},
     "output_type": "execute_result"
    }
   ],
   "source": [
    "y.shape"
   ]
  },
  {
   "cell_type": "code",
   "execution_count": null,
   "metadata": {},
   "outputs": [],
   "source": []
  },
  {
   "cell_type": "code",
   "execution_count": 209,
   "metadata": {},
   "outputs": [],
   "source": [
    "X_blind  = df_blind.iloc[:,1:6] # Input for Train data\n",
    "y_blind  = df_blind.iloc[:,6:7]   # output for Train data"
   ]
  },
  {
   "cell_type": "code",
   "execution_count": 210,
   "metadata": {},
   "outputs": [
    {
     "name": "stderr",
     "output_type": "stream",
     "text": [
      "C:\\Users\\H231148\\AppData\\Local\\Continuum\\anaconda3\\envs\\myenvSS\\lib\\site-packages\\ipykernel_launcher.py:1: FutureWarning: Method .as_matrix will be removed in a future version. Use .values instead.\n",
      "  \"\"\"Entry point for launching an IPython kernel.\n"
     ]
    }
   ],
   "source": [
    "X_blind  = X_blind.as_matrix() "
   ]
  },
  {
   "cell_type": "code",
   "execution_count": 211,
   "metadata": {},
   "outputs": [
    {
     "data": {
      "text/plain": [
       "array([[101.94,  54.82,  97.18,  55.  , 416.72],\n",
       "       [ 98.42,  55.11,  97.03,  54.  , 413.03],\n",
       "       [ 99.67,  54.24,  96.31,  54.  , 413.03],\n",
       "       ...,\n",
       "       [128.41,  52.65,  73.82,  56.  , 409.35],\n",
       "       [129.62,  52.79,  72.81,  56.  , 410.08],\n",
       "       [129.17,  52.5 ,  73.68,  56.  , 412.3 ]])"
      ]
     },
     "execution_count": 211,
     "metadata": {},
     "output_type": "execute_result"
    }
   ],
   "source": [
    "X_blind"
   ]
  },
  {
   "cell_type": "code",
   "execution_count": 212,
   "metadata": {},
   "outputs": [
    {
     "data": {
      "text/plain": [
       "(274, 5)"
      ]
     },
     "execution_count": 212,
     "metadata": {},
     "output_type": "execute_result"
    }
   ],
   "source": [
    "X_blind.shape"
   ]
  },
  {
   "cell_type": "code",
   "execution_count": 213,
   "metadata": {},
   "outputs": [
    {
     "name": "stderr",
     "output_type": "stream",
     "text": [
      "C:\\Users\\H231148\\AppData\\Local\\Continuum\\anaconda3\\envs\\myenvSS\\lib\\site-packages\\ipykernel_launcher.py:1: FutureWarning: Method .as_matrix will be removed in a future version. Use .values instead.\n",
      "  \"\"\"Entry point for launching an IPython kernel.\n"
     ]
    }
   ],
   "source": [
    "y_blind = y_blind.as_matrix()"
   ]
  },
  {
   "cell_type": "code",
   "execution_count": 214,
   "metadata": {},
   "outputs": [
    {
     "name": "stdout",
     "output_type": "stream",
     "text": [
      "[[2.8725e+02]\n",
      " [2.7363e+02]\n",
      " [2.7314e+02]\n",
      " [2.7944e+02]\n",
      " [2.8462e+02]\n",
      " [2.9021e+02]\n",
      " [2.7546e+02]\n",
      " [2.8354e+02]\n",
      " [2.8131e+02]\n",
      " [2.8508e+02]\n",
      " [2.8686e+02]\n",
      " [2.7715e+02]\n",
      " [2.8809e+02]\n",
      " [2.7363e+02]\n",
      " [2.7952e+02]\n",
      " [2.7515e+02]\n",
      " [2.8071e+02]\n",
      " [2.8075e+02]\n",
      " [2.8519e+02]\n",
      " [2.8388e+02]\n",
      " [2.8318e+02]\n",
      " [2.8313e+02]\n",
      " [2.7934e+02]\n",
      " [2.7676e+02]\n",
      " [2.7117e+02]\n",
      " [2.7152e+02]\n",
      " [2.7142e+02]\n",
      " [2.7184e+02]\n",
      " [2.7373e+02]\n",
      " [2.7409e+02]\n",
      " [2.7670e+02]\n",
      " [2.7358e+02]\n",
      " [2.3630e+02]\n",
      " [2.8022e+02]\n",
      " [2.3031e+02]\n",
      " [2.8071e+02]\n",
      " [2.2845e+02]\n",
      " [2.2612e+02]\n",
      " [2.2413e+02]\n",
      " [2.2593e+02]\n",
      " [2.2578e+02]\n",
      " [2.2777e+02]\n",
      " [2.2574e+02]\n",
      " [2.2746e+02]\n",
      " [2.2728e+02]\n",
      " [2.2779e+02]\n",
      " [2.2607e+02]\n",
      " [2.2810e+02]\n",
      " [2.3159e+02]\n",
      " [2.3129e+02]\n",
      " [2.3274e+02]\n",
      " [2.8048e+02]\n",
      " [2.8000e+02]\n",
      " [2.8912e+02]\n",
      " [6.3370e+01]\n",
      " [2.3929e+02]\n",
      " [2.3994e+02]\n",
      " [2.7712e+02]\n",
      " [2.4212e+02]\n",
      " [2.3510e+02]\n",
      " [2.3364e+02]\n",
      " [2.3353e+02]\n",
      " [2.3333e+02]\n",
      " [2.3652e+02]\n",
      " [2.3277e+02]\n",
      " [2.3998e+02]\n",
      " [2.7853e+02]\n",
      " [2.8135e+02]\n",
      " [2.7815e+02]\n",
      " [2.8589e+02]\n",
      " [2.8585e+02]\n",
      " [2.8374e+02]\n",
      " [2.8326e+02]\n",
      " [2.8203e+02]\n",
      " [2.8222e+02]\n",
      " [2.8191e+02]\n",
      " [2.8280e+02]\n",
      " [2.8365e+02]\n",
      " [2.8547e+02]\n",
      " [2.8581e+02]\n",
      " [2.8546e+02]\n",
      " [2.8452e+02]\n",
      " [2.8857e+02]\n",
      " [2.8497e+02]\n",
      " [2.9108e+02]\n",
      " [2.9417e+02]\n",
      " [2.9411e+02]\n",
      " [2.9517e+02]\n",
      " [2.9501e+02]\n",
      " [2.9630e+02]\n",
      " [2.9726e+02]\n",
      " [2.9453e+02]\n",
      " [2.9355e+02]\n",
      " [2.9034e+02]\n",
      " [2.8827e+02]\n",
      " [2.8691e+02]\n",
      " [2.8637e+02]\n",
      " [2.8552e+02]\n",
      " [2.2973e+02]\n",
      " [2.9260e+02]\n",
      " [2.8629e+02]\n",
      " [2.8424e+02]\n",
      " [2.8333e+02]\n",
      " [2.7951e+02]\n",
      " [2.7829e+02]\n",
      " [2.7884e+02]\n",
      " [2.7732e+02]\n",
      " [2.7499e+02]\n",
      " [2.7520e+02]\n",
      " [2.7729e+02]\n",
      " [2.8093e+02]\n",
      " [2.8093e+02]\n",
      " [2.9063e+02]\n",
      " [2.9063e+02]\n",
      " [2.8773e+02]\n",
      " [2.8767e+02]\n",
      " [2.8674e+02]\n",
      " [2.8921e+02]\n",
      " [2.9114e+02]\n",
      " [2.9040e+02]\n",
      " [2.8238e+02]\n",
      " [2.7913e+02]\n",
      " [2.7962e+02]\n",
      " [2.7894e+02]\n",
      " [2.8025e+02]\n",
      " [2.8036e+02]\n",
      " [2.7853e+02]\n",
      " [2.8102e+02]\n",
      " [2.8433e+02]\n",
      " [2.8597e+02]\n",
      " [2.8728e+02]\n",
      " [2.9091e+02]\n",
      " [2.9533e+02]\n",
      " [2.8961e+02]\n",
      " [2.8149e+02]\n",
      " [2.2394e+02]\n",
      " [2.8298e+02]\n",
      " [2.2119e+02]\n",
      " [1.8295e+02]\n",
      " [1.8329e+02]\n",
      " [1.8774e+02]\n",
      " [1.8709e+02]\n",
      " [1.8841e+02]\n",
      " [1.9015e+02]\n",
      " [1.9231e+02]\n",
      " [1.9133e+02]\n",
      " [1.8981e+02]\n",
      " [1.8247e+02]\n",
      " [1.8063e+02]\n",
      " [1.8234e+02]\n",
      " [1.8395e+02]\n",
      " [1.9035e+02]\n",
      " [1.8100e+02]\n",
      " [1.8938e+02]\n",
      " [1.9035e+02]\n",
      " [1.8863e+02]\n",
      " [1.8902e+02]\n",
      " [1.8684e+02]\n",
      " [1.8624e+02]\n",
      " [1.8556e+02]\n",
      " [1.8692e+02]\n",
      " [1.9043e+02]\n",
      " [1.9114e+02]\n",
      " [1.9196e+02]\n",
      " [1.8966e+02]\n",
      " [1.9371e+02]\n",
      " [2.0252e+02]\n",
      " [2.0192e+02]\n",
      " [1.8856e+02]\n",
      " [1.7809e+02]\n",
      " [1.7101e+02]\n",
      " [1.6961e+02]\n",
      " [2.2361e+02]\n",
      " [2.6210e+01]\n",
      " [2.3700e+00]\n",
      " [4.0000e-01]\n",
      " [5.7000e-01]\n",
      " [4.9000e-01]\n",
      " [1.0000e-02]\n",
      " [1.9000e-01]\n",
      " [1.0600e+00]\n",
      " [2.2000e-01]\n",
      " [1.0000e+00]\n",
      " [6.6760e+01]\n",
      " [7.7400e+01]\n",
      " [7.3700e+01]\n",
      " [7.4530e+01]\n",
      " [1.4376e+02]\n",
      " [1.4497e+02]\n",
      " [1.7134e+02]\n",
      " [1.6693e+02]\n",
      " [1.6293e+02]\n",
      " [1.5991e+02]\n",
      " [1.6279e+02]\n",
      " [1.5750e+02]\n",
      " [1.9952e+02]\n",
      " [1.5983e+02]\n",
      " [1.5885e+02]\n",
      " [1.6011e+02]\n",
      " [1.5895e+02]\n",
      " [1.5260e+02]\n",
      " [1.5691e+02]\n",
      " [1.5052e+02]\n",
      " [1.5940e+02]\n",
      " [2.0076e+02]\n",
      " [1.6084e+02]\n",
      " [2.0608e+02]\n",
      " [2.0120e+02]\n",
      " [2.0152e+02]\n",
      " [1.9903e+02]\n",
      " [1.9764e+02]\n",
      " [1.9791e+02]\n",
      " [2.0222e+02]\n",
      " [2.0094e+02]\n",
      " [2.0233e+02]\n",
      " [2.0241e+02]\n",
      " [2.0352e+02]\n",
      " [2.0361e+02]\n",
      " [2.0176e+02]\n",
      " [2.0121e+02]\n",
      " [2.0109e+02]\n",
      " [2.0199e+02]\n",
      " [2.0703e+02]\n",
      " [2.2292e+02]\n",
      " [2.2656e+02]\n",
      " [2.0177e+02]\n",
      " [2.2656e+02]\n",
      " [2.2576e+02]\n",
      " [2.2890e+02]\n",
      " [2.3102e+02]\n",
      " [2.0280e+02]\n",
      " [2.2919e+02]\n",
      " [2.2348e+02]\n",
      " [2.2419e+02]\n",
      " [2.2731e+02]\n",
      " [2.3173e+02]\n",
      " [2.3173e+02]\n",
      " [2.3251e+02]\n",
      " [2.2328e+02]\n",
      " [2.0511e+02]\n",
      " [2.0588e+02]\n",
      " [2.0520e+02]\n",
      " [2.1384e+02]\n",
      " [2.1229e+02]\n",
      " [2.1235e+02]\n",
      " [2.1136e+02]\n",
      " [2.1085e+02]\n",
      " [2.1995e+02]\n",
      " [2.1408e+02]\n",
      " [2.0425e+02]\n",
      " [2.0271e+02]\n",
      " [2.0842e+02]\n",
      " [2.0988e+02]\n",
      " [2.1271e+02]\n",
      " [2.1687e+02]\n",
      " [2.1687e+02]\n",
      " [2.0119e+02]\n",
      " [2.1574e+02]\n",
      " [2.0879e+02]\n",
      " [2.1250e+02]\n",
      " [2.2613e+02]\n",
      " [2.2305e+02]\n",
      " [2.2316e+02]\n",
      " [2.2086e+02]\n",
      " [2.2089e+02]\n",
      " [2.1832e+02]\n",
      " [2.1463e+02]\n",
      " [2.1218e+02]\n",
      " [2.2419e+02]\n",
      " [2.1131e+02]\n",
      " [2.0456e+02]\n",
      " [2.0900e+02]\n",
      " [2.0801e+02]\n",
      " [2.0456e+02]]\n"
     ]
    }
   ],
   "source": [
    "print(y_blind)"
   ]
  },
  {
   "cell_type": "code",
   "execution_count": 215,
   "metadata": {},
   "outputs": [
    {
     "data": {
      "text/plain": [
       "(274, 1)"
      ]
     },
     "execution_count": 215,
     "metadata": {},
     "output_type": "execute_result"
    }
   ],
   "source": [
    "y_blind.shape"
   ]
  },
  {
   "cell_type": "code",
   "execution_count": null,
   "metadata": {},
   "outputs": [],
   "source": []
  },
  {
   "cell_type": "code",
   "execution_count": 216,
   "metadata": {},
   "outputs": [],
   "source": [
    "from sklearn import preprocessing\n",
    "std_scale = preprocessing.StandardScaler()"
   ]
  },
  {
   "cell_type": "code",
   "execution_count": 217,
   "metadata": {},
   "outputs": [],
   "source": [
    "X_scale = std_scale.fit_transform(X)"
   ]
  },
  {
   "cell_type": "code",
   "execution_count": 218,
   "metadata": {},
   "outputs": [],
   "source": [
    "X_blind_scale = std_scale.transform(X_blind)"
   ]
  },
  {
   "cell_type": "code",
   "execution_count": null,
   "metadata": {},
   "outputs": [],
   "source": []
  },
  {
   "cell_type": "code",
   "execution_count": 219,
   "metadata": {},
   "outputs": [],
   "source": [
    "from sklearn.model_selection import train_test_split\n",
    "\n",
    "X_train, X_test, y_train, y_test = train_test_split(X_scale , y, test_size=0.33, random_state=42) "
   ]
  },
  {
   "cell_type": "code",
   "execution_count": 220,
   "metadata": {},
   "outputs": [],
   "source": [
    "# Initiate all the libraries required for this model\n",
    "from sklearn.neural_network import MLPRegressor\n",
    "from sklearn.metrics import mean_squared_error \n",
    "from sklearn.metrics import explained_variance_score\n",
    "from sklearn.metrics import classification_report"
   ]
  },
  {
   "cell_type": "code",
   "execution_count": 221,
   "metadata": {},
   "outputs": [],
   "source": [
    "# Define the model:\n",
    "model = MLPRegressor(solver='adam', activation='relu',hidden_layer_sizes=(95,85,55,100,5), random_state=1)"
   ]
  },
  {
   "cell_type": "code",
   "execution_count": 222,
   "metadata": {},
   "outputs": [
    {
     "name": "stderr",
     "output_type": "stream",
     "text": [
      "C:\\Users\\H231148\\AppData\\Local\\Continuum\\anaconda3\\envs\\myenvSS\\lib\\site-packages\\sklearn\\neural_network\\multilayer_perceptron.py:1316: DataConversionWarning: A column-vector y was passed when a 1d array was expected. Please change the shape of y to (n_samples, ), for example using ravel().\n",
      "  y = column_or_1d(y, warn=True)\n",
      "C:\\Users\\H231148\\AppData\\Local\\Continuum\\anaconda3\\envs\\myenvSS\\lib\\site-packages\\sklearn\\neural_network\\multilayer_perceptron.py:562: ConvergenceWarning: Stochastic Optimizer: Maximum iterations (200) reached and the optimization hasn't converged yet.\n",
      "  % self.max_iter, ConvergenceWarning)\n"
     ]
    },
    {
     "data": {
      "text/plain": [
       "MLPRegressor(activation='relu', alpha=0.0001, batch_size='auto', beta_1=0.9,\n",
       "       beta_2=0.999, early_stopping=False, epsilon=1e-08,\n",
       "       hidden_layer_sizes=(95, 85, 55, 100, 5), learning_rate='constant',\n",
       "       learning_rate_init=0.001, max_iter=200, momentum=0.9,\n",
       "       n_iter_no_change=10, nesterovs_momentum=True, power_t=0.5,\n",
       "       random_state=1, shuffle=True, solver='adam', tol=0.0001,\n",
       "       validation_fraction=0.1, verbose=False, warm_start=False)"
      ]
     },
     "execution_count": 222,
     "metadata": {},
     "output_type": "execute_result"
    }
   ],
   "source": [
    "# Apply model:\n",
    "model.fit(X_train, y_train)"
   ]
  },
  {
   "cell_type": "code",
   "execution_count": 223,
   "metadata": {},
   "outputs": [],
   "source": [
    "#Predicting using test and train Data\n",
    "y_pred = model.predict(X_test)"
   ]
  },
  {
   "cell_type": "code",
   "execution_count": 224,
   "metadata": {},
   "outputs": [
    {
     "name": "stdout",
     "output_type": "stream",
     "text": [
      "Explained_variance_score (r2 score) : 0.94\n",
      "\n",
      "Mean_squared_error (MSE) : 95.919\n",
      "\n",
      "Root Mean Square Error (RMSE): 9.79\n"
     ]
    }
   ],
   "source": [
    "# Mean square error means average of a set of errors ( R2 score )\n",
    "# print the expalined varaince and mean squared error values ( RMSE )\n",
    "print ('Explained_variance_score (r2 score) :', round(explained_variance_score(y_test,y_pred),2))\n",
    "print ()\n",
    "print ('Mean_squared_error (MSE) :', round(mean_squared_error(y_test,y_pred)**0.5,3))\n",
    "print ()\n",
    "print ('Root Mean Square Error (RMSE):', round(sqrt(mean_squared_error(y_test,y_pred)**0.5),2))"
   ]
  },
  {
   "cell_type": "code",
   "execution_count": 225,
   "metadata": {},
   "outputs": [],
   "source": [
    "import matplotlib.pyplot as plt\n",
    "area = np.pi*3"
   ]
  },
  {
   "cell_type": "code",
   "execution_count": 226,
   "metadata": {},
   "outputs": [
    {
     "data": {
      "image/png": "[encoded data removed]",
      "text/plain": [
       "<Figure size 432x288 with 1 Axes>"
      ]
     },
     "metadata": {
      "needs_background": "light"
     },
     "output_type": "display_data"
    }
   ],
   "source": [
    "plt.scatter(y_test, y_pred, s=area, alpha=0.5)\n",
    "plt.title('Scatter plot pythonspot.com')\n",
    "plt.xlabel('Actual')\n",
    "plt.ylabel('Predicted')\n",
    "plt.show()"
   ]
  },
  {
   "cell_type": "code",
   "execution_count": 227,
   "metadata": {},
   "outputs": [],
   "source": [
    "# Predict the prosity and add the predicted porosity ANN to the dataframe\n",
    "y_pred_blind = model.predict(X_blind_scale)\n",
    "# df_blind.insert(0, 'Predicted Porosity ANN', y_pred_blind)"
   ]
  },
  {
   "cell_type": "code",
   "execution_count": 228,
   "metadata": {},
   "outputs": [
    {
     "name": "stdout",
     "output_type": "stream",
     "text": [
      "Explained_variance_score (r2 score) : -1.71\n",
      "\n",
      "Mean_squared_error (MSE) : 130.094\n",
      "\n",
      "Root Mean Square Error (RMSE): 11.41\n"
     ]
    }
   ],
   "source": [
    "# Mean square error means average of a set of errors ( R2 score )\n",
    "# print the expalined varaince and mean squared error values ( RMSE )\n",
    "print ('Explained_variance_score (r2 score) :', round(explained_variance_score(y_blind,y_pred_blind),2))\n",
    "print ()\n",
    "print ('Mean_squared_error (MSE) :', round(mean_squared_error(y_blind,y_pred_blind)**0.5,3))\n",
    "print ()\n",
    "print ('Root Mean Square Error (RMSE):', round(sqrt(mean_squared_error(y_blind,y_pred_blind)**0.5),2))"
   ]
  },
  {
   "cell_type": "code",
   "execution_count": 229,
   "metadata": {},
   "outputs": [
    {
     "data": {
      "image/png": "[encoded data removed]",
      "text/plain": [
       "<Figure size 432x288 with 1 Axes>"
      ]
     },
     "metadata": {
      "needs_background": "light"
     },
     "output_type": "display_data"
    }
   ],
   "source": [
    "plt.scatter(y_blind, y_pred_blind, s=area, alpha=0.5)\n",
    "plt.title('Scatter plot pythonspot.com')\n",
    "plt.xlabel('Actual')\n",
    "plt.ylabel('Predicted')\n",
    "plt.show()"
   ]
  },
  {
   "cell_type": "code",
   "execution_count": 230,
   "metadata": {},
   "outputs": [],
   "source": [
    "# Draw Plot\n",
    "def plot_df(df, x, y, title=\"\", xlabel='Date', ylabel='GasRate', dpi=100):\n",
    "    plt.figure(figsize=(16,5), dpi=dpi)\n",
    "    plt.plot(x, y, color='tab:red')\n",
    "    plt.gca().set(title=title, xlabel=xlabel, ylabel=ylabel)\n",
    "    plt.show()\n",
    "\n"
   ]
  },
  {
   "cell_type": "code",
   "execution_count": 231,
   "metadata": {},
   "outputs": [],
   "source": [
    "# plot_df(data, x=X_blind.index, y=X_blind.GasRate, title='GasRate VS Time')  "
   ]
  },
  {
   "cell_type": "code",
   "execution_count": null,
   "metadata": {},
   "outputs": [],
   "source": []
  },
  {
   "cell_type": "code",
   "execution_count": null,
   "metadata": {},
   "outputs": [],
   "source": []
  },
  {
   "cell_type": "code",
   "execution_count": null,
   "metadata": {},
   "outputs": [],
   "source": []
  },
  {
   "cell_type": "code",
   "execution_count": null,
   "metadata": {},
   "outputs": [],
   "source": []
  },
  {
   "cell_type": "code",
   "execution_count": null,
   "metadata": {},
   "outputs": [],
   "source": []
  },
  {
   "cell_type": "code",
   "execution_count": null,
   "metadata": {},
   "outputs": [],
   "source": []
  },
  {
   "cell_type": "code",
   "execution_count": null,
   "metadata": {},
   "outputs": [],
   "source": []
  }
 ],
 "metadata": {
  "kernelspec": {
   "display_name": "Python 3",
   "language": "python",
   "name": "python3"
  },
  "language_info": {
   "codemirror_mode": {
    "name": "ipython",
    "version": 3
   },
   "file_extension": ".py",
   "mimetype": "text/x-python",
   "name": "python",
   "nbconvert_exporter": "python",
   "pygments_lexer": "ipython3",
   "version": "3.6.8"
  }
 },
 "nbformat": 4,
 "nbformat_minor": 2
}
