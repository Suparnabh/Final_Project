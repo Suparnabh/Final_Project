{
 "cells": [
  {
   "cell_type": "code",
   "execution_count": 27,
   "metadata": {},
   "outputs": [],
   "source": [
    "# Dependencies\n",
    "from matplotlib import pyplot as plt\n",
    "import numpy as np\n",
    "import pandas as pd\n",
    "from scipy.stats import sem"
   ]
  },
  {
   "cell_type": "code",
   "execution_count": 28,
   "metadata": {},
   "outputs": [
    {
     "data": {
      "text/html": [
       "<div>\n",
       "<style scoped>\n",
       "    .dataframe tbody tr th:only-of-type {\n",
       "        vertical-align: middle;\n",
       "    }\n",
       "\n",
       "    .dataframe tbody tr th {\n",
       "        vertical-align: top;\n",
       "    }\n",
       "\n",
       "    .dataframe thead th {\n",
       "        text-align: right;\n",
       "    }\n",
       "</style>\n",
       "<table border=\"1\" class=\"dataframe\">\n",
       "  <thead>\n",
       "    <tr style=\"text-align: right;\">\n",
       "      <th></th>\n",
       "      <th>0</th>\n",
       "      <th>1</th>\n",
       "      <th>2</th>\n",
       "      <th>3</th>\n",
       "      <th>4</th>\n",
       "      <th>5</th>\n",
       "      <th>6</th>\n",
       "      <th>7</th>\n",
       "      <th>8</th>\n",
       "      <th>9</th>\n",
       "      <th>10</th>\n",
       "      <th>11</th>\n",
       "      <th>12</th>\n",
       "      <th>13</th>\n",
       "    </tr>\n",
       "  </thead>\n",
       "  <tbody>\n",
       "    <tr>\n",
       "      <td>0</td>\n",
       "      <td>0.11460</td>\n",
       "      <td>20.0</td>\n",
       "      <td>6.96</td>\n",
       "      <td>0</td>\n",
       "      <td>0.464</td>\n",
       "      <td>6.538</td>\n",
       "      <td>58.7</td>\n",
       "      <td>3.9175</td>\n",
       "      <td>3</td>\n",
       "      <td>223.0</td>\n",
       "      <td>18.6</td>\n",
       "      <td>394.96</td>\n",
       "      <td>7.73</td>\n",
       "      <td>24.4</td>\n",
       "    </tr>\n",
       "    <tr>\n",
       "      <td>1</td>\n",
       "      <td>0.18836</td>\n",
       "      <td>0.0</td>\n",
       "      <td>6.91</td>\n",
       "      <td>0</td>\n",
       "      <td>0.448</td>\n",
       "      <td>5.786</td>\n",
       "      <td>33.3</td>\n",
       "      <td>5.1004</td>\n",
       "      <td>3</td>\n",
       "      <td>233.0</td>\n",
       "      <td>17.9</td>\n",
       "      <td>396.90</td>\n",
       "      <td>14.15</td>\n",
       "      <td>20.0</td>\n",
       "    </tr>\n",
       "    <tr>\n",
       "      <td>2</td>\n",
       "      <td>0.05425</td>\n",
       "      <td>0.0</td>\n",
       "      <td>4.05</td>\n",
       "      <td>0</td>\n",
       "      <td>0.510</td>\n",
       "      <td>6.315</td>\n",
       "      <td>73.4</td>\n",
       "      <td>3.3175</td>\n",
       "      <td>5</td>\n",
       "      <td>296.0</td>\n",
       "      <td>16.6</td>\n",
       "      <td>395.60</td>\n",
       "      <td>6.29</td>\n",
       "      <td>24.6</td>\n",
       "    </tr>\n",
       "    <tr>\n",
       "      <td>3</td>\n",
       "      <td>0.03113</td>\n",
       "      <td>0.0</td>\n",
       "      <td>4.39</td>\n",
       "      <td>0</td>\n",
       "      <td>0.442</td>\n",
       "      <td>6.014</td>\n",
       "      <td>48.5</td>\n",
       "      <td>8.0136</td>\n",
       "      <td>3</td>\n",
       "      <td>352.0</td>\n",
       "      <td>18.8</td>\n",
       "      <td>385.64</td>\n",
       "      <td>10.53</td>\n",
       "      <td>17.5</td>\n",
       "    </tr>\n",
       "    <tr>\n",
       "      <td>4</td>\n",
       "      <td>0.61470</td>\n",
       "      <td>0.0</td>\n",
       "      <td>6.20</td>\n",
       "      <td>0</td>\n",
       "      <td>0.507</td>\n",
       "      <td>6.618</td>\n",
       "      <td>80.8</td>\n",
       "      <td>3.2721</td>\n",
       "      <td>8</td>\n",
       "      <td>307.0</td>\n",
       "      <td>17.4</td>\n",
       "      <td>396.90</td>\n",
       "      <td>7.60</td>\n",
       "      <td>30.1</td>\n",
       "    </tr>\n",
       "  </tbody>\n",
       "</table>\n",
       "</div>"
      ],
      "text/plain": [
       "        0     1     2   3      4      5     6       7   8      9     10  \\\n",
       "0  0.11460  20.0  6.96   0  0.464  6.538  58.7  3.9175   3  223.0  18.6   \n",
       "1  0.18836   0.0  6.91   0  0.448  5.786  33.3  5.1004   3  233.0  17.9   \n",
       "2  0.05425   0.0  4.05   0  0.510  6.315  73.4  3.3175   5  296.0  16.6   \n",
       "3  0.03113   0.0  4.39   0  0.442  6.014  48.5  8.0136   3  352.0  18.8   \n",
       "4  0.61470   0.0  6.20   0  0.507  6.618  80.8  3.2721   8  307.0  17.4   \n",
       "\n",
       "       11     12    13  \n",
       "0  394.96   7.73  24.4  \n",
       "1  396.90  14.15  20.0  \n",
       "2  395.60   6.29  24.6  \n",
       "3  385.64  10.53  17.5  \n",
       "4  396.90   7.60  30.1  "
      ]
     },
     "execution_count": 28,
     "metadata": {},
     "output_type": "execute_result"
    }
   ],
   "source": [
    "# Read and shuffle data\n",
    "housing_data = pd.read_csv(\"../Resources/housing_data.csv\", header=None)\n",
    "housing_data = housing_data.sample(frac=1).reset_index(drop=True)\n",
    "\n",
    "# can you tell which column represents the housing price and why?\n",
    "housing_data.head()"
   ]
  },
  {
   "cell_type": "code",
   "execution_count": 29,
   "metadata": {},
   "outputs": [
    {
     "name": "stdout",
     "output_type": "stream",
     "text": [
      "<class 'pandas.core.frame.DataFrame'>\n",
      "RangeIndex: 506 entries, 0 to 505\n",
      "Data columns (total 14 columns):\n",
      "0     506 non-null float64\n",
      "1     506 non-null float64\n",
      "2     506 non-null float64\n",
      "3     506 non-null int64\n",
      "4     506 non-null float64\n",
      "5     506 non-null float64\n",
      "6     506 non-null float64\n",
      "7     506 non-null float64\n",
      "8     506 non-null int64\n",
      "9     506 non-null float64\n",
      "10    506 non-null float64\n",
      "11    506 non-null float64\n",
      "12    506 non-null float64\n",
      "13    506 non-null float64\n",
      "dtypes: float64(12), int64(2)\n",
      "memory usage: 55.5 KB\n"
     ]
    }
   ],
   "source": [
    "housing_data.info()"
   ]
  },
  {
   "cell_type": "code",
   "execution_count": 30,
   "metadata": {},
   "outputs": [],
   "source": [
    "# Create a bunch of samples, each with div items\n",
    "\n",
    "# each sample has div number of rows\n",
    "div = 20\n",
    "\n",
    "# the total number of samples is lim\n",
    "lim = len(housing_data) // div\n",
    "\n",
    "samples = [housing_data.iloc[(i * div):(i * div + div), 13]\n",
    "           for i in range(0, lim)]"
   ]
  },
  {
   "cell_type": "code",
   "execution_count": 31,
   "metadata": {},
   "outputs": [],
   "source": [
    "# compute means and standard error of mean\n",
    "means = [np.mean(sample) for sample in samples]\n",
    "sems = [sem(sample) for sample in samples]"
   ]
  },
  {
   "cell_type": "code",
   "execution_count": 34,
   "metadata": {},
   "outputs": [
    {
     "data": {
      "text/plain": [
       "Text(0, 0.5, 'Mean of Median Housing Price in $1000s')"
      ]
     },
     "execution_count": 34,
     "metadata": {},
     "output_type": "execute_result"
    },
    {
     "data": {
      "image/png": "[encoded data removed]",
      "text/plain": [
       "<Figure size 432x288 with 1 Axes>"
      ]
     },
     "metadata": {
      "needs_background": "light"
     },
     "output_type": "display_data"
    }
   ],
   "source": [
    "# plot the means with errorbars\n",
    "fig, ax = plt.subplots()\n",
    "\n",
    "ax.errorbar(range(0,lim), means, sems, fmt='o')\n",
    "ax.set_xlabel('Sample Number')\n",
    "ax.set_ylabel('Mean of Median Housing Price in $1000s')"
   ]
  },
  {
   "cell_type": "code",
   "execution_count": null,
   "metadata": {},
   "outputs": [],
   "source": []
  }
 ],
 "metadata": {
  "kernelspec": {
   "display_name": "Python 3",
   "language": "python",
   "name": "python3"
  },
  "language_info": {
   "codemirror_mode": {
    "name": "ipython",
    "version": 3
   },
   "file_extension": ".py",
   "mimetype": "text/x-python",
   "name": "python",
   "nbconvert_exporter": "python",
   "pygments_lexer": "ipython3",
   "version": "3.7.4"
  }
 },
 "nbformat": 4,
 "nbformat_minor": 2
}
